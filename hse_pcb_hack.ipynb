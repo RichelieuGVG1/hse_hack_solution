{
 "cells": [
  {
   "cell_type": "code",
   "execution_count": 1,
   "metadata": {
    "id": "MFWGELgqvJzG"
   },
   "outputs": [],
   "source": [
    "!pip install wandb -q\n",
    "!pip install catboost -q\n",
    "!pip install xgboost -q"
   ]
  },
  {
   "cell_type": "code",
   "execution_count": 2,
   "metadata": {
    "id": "E1gncMK5Si4w"
   },
   "outputs": [],
   "source": [
    "!pip install phik -q"
   ]
  },
  {
   "cell_type": "code",
   "execution_count": 1,
   "metadata": {
    "_cell_guid": "b1076dfc-b9ad-4769-8c92-a6c4dae69d19",
    "_uuid": "8f2839f25d086af736a60e9eeb907d3b93b6e0e5",
    "execution": {
     "iopub.execute_input": "2024-03-13T13:47:19.271992Z",
     "iopub.status.busy": "2024-03-13T13:47:19.271218Z",
     "iopub.status.idle": "2024-03-13T13:47:27.758058Z",
     "shell.execute_reply": "2024-03-13T13:47:27.757094Z",
     "shell.execute_reply.started": "2024-03-13T13:47:19.271951Z"
    },
    "id": "lxTsETWCu9ie"
   },
   "outputs": [],
   "source": [
    "import pandas as pd\n",
    "import matplotlib.pyplot as plt\n",
    "\n",
    "from sklearn.preprocessing import StandardScaler\n",
    "import catboost\n",
    "from catboost import CatBoostClassifier, Pool, cv\n",
    "import xgboost as xgb\n",
    "from sklearn.model_selection import train_test_split, cross_validate, StratifiedKFold\n",
    "from sklearn.ensemble import RandomForestClassifier\n",
    "from sklearn.preprocessing import OrdinalEncoder\n",
    "from sklearn.metrics import f1_score, roc_auc_score, precision_score, recall_score\n",
    "from sklearn.decomposition import PCA\n",
    "# import optuna\n",
    "import numpy as np\n",
    "\n",
    "import random\n",
    "import os\n",
    "import torch\n",
    "\n",
    "import wandb"
   ]
  },
  {
   "cell_type": "markdown",
   "metadata": {},
   "source": [
    "Отобранные фичи, около 70 штук"
   ]
  },
  {
   "cell_type": "code",
   "execution_count": 2,
   "metadata": {
    "execution": {
     "iopub.execute_input": "2024-03-13T13:47:27.760127Z",
     "iopub.status.busy": "2024-03-13T13:47:27.759791Z",
     "iopub.status.idle": "2024-03-13T13:47:27.768849Z",
     "shell.execute_reply": "2024-03-13T13:47:27.767978Z",
     "shell.execute_reply.started": "2024-03-13T13:47:27.760103Z"
    },
    "id": "B9IOUnpVu9if"
   },
   "outputs": [],
   "source": [
    "selected_features_names= ['feature1',\n",
    "  'feature3',\n",
    "  'feature37',\n",
    "  'feature43',\n",
    "  'feature55',\n",
    "  'feature152',\n",
    "  'feature154',\n",
    "  'feature162',\n",
    "  'feature170',\n",
    "  'feature178',\n",
    "  'feature188',\n",
    "  'feature190',\n",
    "  'feature191',\n",
    "  'feature198',\n",
    "  'feature208',\n",
    "  'feature209',\n",
    "  'feature318',\n",
    "  'feature319',\n",
    "  'feature341',\n",
    "  'feature349',\n",
    "  'feature350',\n",
    "  'feature356',\n",
    "  'feature357',\n",
    "  'feature405',\n",
    "  'feature422',\n",
    "  'feature435',\n",
    "  'feature450',\n",
    "  'feature461',\n",
    "  'feature472',\n",
    "  'feature499',\n",
    "  'feature546',\n",
    "  'feature548',\n",
    "  'feature559',\n",
    "  'feature713',\n",
    "  'feature714',\n",
    "  'feature758',\n",
    "  'feature861',\n",
    "  'feature862',\n",
    "  'feature865',\n",
    "  'feature869',\n",
    "  'feature898',\n",
    "  'feature900',\n",
    "  'feature909',\n",
    "  'feature913',\n",
    "  'feature915',\n",
    "  'feature920',\n",
    "  'feature930',\n",
    "  'feature935',\n",
    "  'feature936',\n",
    "  'feature937',\n",
    "  'feature939',\n",
    "  'feature940',\n",
    "  'feature941',\n",
    "  'feature944',\n",
    "  'feature947',\n",
    "  'feature949',\n",
    "  'feature950',\n",
    "  'feature951',\n",
    "  'feature952',\n",
    "  'feature953',\n",
    "  'feature954',\n",
    "  'feature988',\n",
    "  'feature990',\n",
    "  'feature992',\n",
    "  'feature993',\n",
    "  'feature994',\n",
    "  'feature1000',\n",
    "  'feature1002',\n",
    "  'feature1003',\n",
    "  'feature1004']"
   ]
  },
  {
   "cell_type": "code",
   "execution_count": 3,
   "metadata": {
    "execution": {
     "iopub.execute_input": "2024-03-13T13:47:27.770152Z",
     "iopub.status.busy": "2024-03-13T13:47:27.769841Z",
     "iopub.status.idle": "2024-03-13T13:47:27.785248Z",
     "shell.execute_reply": "2024-03-13T13:47:27.784355Z",
     "shell.execute_reply.started": "2024-03-13T13:47:27.770128Z"
    },
    "id": "PPUnfAqtu9ig"
   },
   "outputs": [],
   "source": [
    "SEED = 42\n",
    "random.seed(SEED)\n",
    "np.random.seed(SEED)\n",
    "torch.manual_seed(SEED)\n",
    "torch.cuda.manual_seed(SEED)\n",
    "torch.cuda.manual_seed_all(SEED)\n",
    "torch.backends.cudnn.deterministic = True\n",
    "torch.backends.cudnn.benchmark = False\n",
    "\n",
    "os.environ['PYTHONHASHSEED'] = str(SEED)\n",
    "\n",
    "def set_seed(seed=SEED):\n",
    "    random.seed(seed)\n",
    "    np.random.seed(seed)\n",
    "    torch.manual_seed(seed)\n",
    "    torch.cuda.manual_seed(seed)\n",
    "    torch.cuda.manual_seed_all(seed)\n",
    "    torch.backends.cudnn.deterministic = True\n",
    "    torch.backends.cudnn.benchmark = False\n",
    "    os.environ['PYTHONHASHSEED'] = str(seed)\n",
    "\n",
    "set_seed()"
   ]
  },
  {
   "cell_type": "code",
   "execution_count": 7,
   "metadata": {
    "colab": {
     "base_uri": "https://localhost:8080/"
    },
    "id": "VE9VeIbFvGq0",
    "outputId": "c19680c2-e11d-4c9d-ac35-f9591a60582e"
   },
   "outputs": [
    {
     "name": "stdout",
     "output_type": "stream",
     "text": [
      "Mounted at /content/drive\n"
     ]
    }
   ],
   "source": [
    "from google.colab import drive\n",
    "drive.mount('/content/drive')"
   ]
  },
  {
   "cell_type": "code",
   "execution_count": 5,
   "metadata": {
    "colab": {
     "base_uri": "https://localhost:8080/",
     "height": 443
    },
    "execution": {
     "iopub.execute_input": "2024-03-13T13:47:27.787822Z",
     "iopub.status.busy": "2024-03-13T13:47:27.787391Z",
     "iopub.status.idle": "2024-03-13T13:47:38.734402Z",
     "shell.execute_reply": "2024-03-13T13:47:38.733462Z",
     "shell.execute_reply.started": "2024-03-13T13:47:27.787789Z"
    },
    "id": "oJRjezxNu9ig",
    "outputId": "3351c58d-cfa0-4325-ee14-88df53d705db",
    "scrolled": true
   },
   "outputs": [
    {
     "data": {
      "application/vnd.google.colaboratory.intrinsic+json": {
       "type": "dataframe",
       "variable_name": "df"
      },
      "text/html": [
       "\n",
       "  <div id=\"df-2b328b9f-3b8d-4840-9834-c690dc7070a8\" class=\"colab-df-container\">\n",
       "    <div>\n",
       "<style scoped>\n",
       "    .dataframe tbody tr th:only-of-type {\n",
       "        vertical-align: middle;\n",
       "    }\n",
       "\n",
       "    .dataframe tbody tr th {\n",
       "        vertical-align: top;\n",
       "    }\n",
       "\n",
       "    .dataframe thead th {\n",
       "        text-align: right;\n",
       "    }\n",
       "</style>\n",
       "<table border=\"1\" class=\"dataframe\">\n",
       "  <thead>\n",
       "    <tr style=\"text-align: right;\">\n",
       "      <th></th>\n",
       "      <th>feature1</th>\n",
       "      <th>feature3</th>\n",
       "      <th>feature37</th>\n",
       "      <th>feature43</th>\n",
       "      <th>feature55</th>\n",
       "      <th>feature152</th>\n",
       "      <th>feature154</th>\n",
       "      <th>feature162</th>\n",
       "      <th>feature170</th>\n",
       "      <th>feature178</th>\n",
       "      <th>...</th>\n",
       "      <th>feature988</th>\n",
       "      <th>feature990</th>\n",
       "      <th>feature992</th>\n",
       "      <th>feature993</th>\n",
       "      <th>feature994</th>\n",
       "      <th>feature1000</th>\n",
       "      <th>feature1002</th>\n",
       "      <th>feature1003</th>\n",
       "      <th>feature1004</th>\n",
       "      <th>target</th>\n",
       "    </tr>\n",
       "  </thead>\n",
       "  <tbody>\n",
       "    <tr>\n",
       "      <th>0</th>\n",
       "      <td>1761</td>\n",
       "      <td>85</td>\n",
       "      <td>85495</td>\n",
       "      <td>19131</td>\n",
       "      <td>27157</td>\n",
       "      <td>5099</td>\n",
       "      <td>383300</td>\n",
       "      <td>116910</td>\n",
       "      <td>162919</td>\n",
       "      <td>446934</td>\n",
       "      <td>...</td>\n",
       "      <td>0</td>\n",
       "      <td>1</td>\n",
       "      <td>5</td>\n",
       "      <td>8</td>\n",
       "      <td>16</td>\n",
       "      <td>1</td>\n",
       "      <td>3</td>\n",
       "      <td>6</td>\n",
       "      <td>14</td>\n",
       "      <td>0</td>\n",
       "    </tr>\n",
       "    <tr>\n",
       "      <th>1</th>\n",
       "      <td>1761</td>\n",
       "      <td>120</td>\n",
       "      <td>85495</td>\n",
       "      <td>59900</td>\n",
       "      <td>138924</td>\n",
       "      <td>49546</td>\n",
       "      <td>561368</td>\n",
       "      <td>66335</td>\n",
       "      <td>162919</td>\n",
       "      <td>456123</td>\n",
       "      <td>...</td>\n",
       "      <td>0</td>\n",
       "      <td>0</td>\n",
       "      <td>4</td>\n",
       "      <td>10</td>\n",
       "      <td>22</td>\n",
       "      <td>0</td>\n",
       "      <td>3</td>\n",
       "      <td>9</td>\n",
       "      <td>22</td>\n",
       "      <td>0</td>\n",
       "    </tr>\n",
       "    <tr>\n",
       "      <th>2</th>\n",
       "      <td>890</td>\n",
       "      <td>141</td>\n",
       "      <td>85495</td>\n",
       "      <td>11110</td>\n",
       "      <td>278364</td>\n",
       "      <td>2046</td>\n",
       "      <td>97389</td>\n",
       "      <td>19218</td>\n",
       "      <td>162919</td>\n",
       "      <td>211763</td>\n",
       "      <td>...</td>\n",
       "      <td>2</td>\n",
       "      <td>3</td>\n",
       "      <td>9</td>\n",
       "      <td>24</td>\n",
       "      <td>40</td>\n",
       "      <td>3</td>\n",
       "      <td>8</td>\n",
       "      <td>23</td>\n",
       "      <td>40</td>\n",
       "      <td>0</td>\n",
       "    </tr>\n",
       "    <tr>\n",
       "      <th>5</th>\n",
       "      <td>1599</td>\n",
       "      <td>30</td>\n",
       "      <td>85495</td>\n",
       "      <td>38606</td>\n",
       "      <td>148572</td>\n",
       "      <td>259281</td>\n",
       "      <td>18197</td>\n",
       "      <td>112356</td>\n",
       "      <td>162919</td>\n",
       "      <td>306530</td>\n",
       "      <td>...</td>\n",
       "      <td>1</td>\n",
       "      <td>2</td>\n",
       "      <td>5</td>\n",
       "      <td>5</td>\n",
       "      <td>5</td>\n",
       "      <td>2</td>\n",
       "      <td>3</td>\n",
       "      <td>3</td>\n",
       "      <td>3</td>\n",
       "      <td>0</td>\n",
       "    </tr>\n",
       "    <tr>\n",
       "      <th>6</th>\n",
       "      <td>1761</td>\n",
       "      <td>85</td>\n",
       "      <td>0</td>\n",
       "      <td>17927</td>\n",
       "      <td>438447</td>\n",
       "      <td>6750</td>\n",
       "      <td>429713</td>\n",
       "      <td>78336</td>\n",
       "      <td>162919</td>\n",
       "      <td>222166</td>\n",
       "      <td>...</td>\n",
       "      <td>0</td>\n",
       "      <td>1</td>\n",
       "      <td>6</td>\n",
       "      <td>12</td>\n",
       "      <td>14</td>\n",
       "      <td>1</td>\n",
       "      <td>4</td>\n",
       "      <td>10</td>\n",
       "      <td>12</td>\n",
       "      <td>0</td>\n",
       "    </tr>\n",
       "    <tr>\n",
       "      <th>...</th>\n",
       "      <td>...</td>\n",
       "      <td>...</td>\n",
       "      <td>...</td>\n",
       "      <td>...</td>\n",
       "      <td>...</td>\n",
       "      <td>...</td>\n",
       "      <td>...</td>\n",
       "      <td>...</td>\n",
       "      <td>...</td>\n",
       "      <td>...</td>\n",
       "      <td>...</td>\n",
       "      <td>...</td>\n",
       "      <td>...</td>\n",
       "      <td>...</td>\n",
       "      <td>...</td>\n",
       "      <td>...</td>\n",
       "      <td>...</td>\n",
       "      <td>...</td>\n",
       "      <td>...</td>\n",
       "      <td>...</td>\n",
       "      <td>...</td>\n",
       "    </tr>\n",
       "    <tr>\n",
       "      <th>693036</th>\n",
       "      <td>1761</td>\n",
       "      <td>141</td>\n",
       "      <td>85495</td>\n",
       "      <td>59900</td>\n",
       "      <td>173987</td>\n",
       "      <td>259281</td>\n",
       "      <td>42517</td>\n",
       "      <td>33886</td>\n",
       "      <td>162919</td>\n",
       "      <td>21914</td>\n",
       "      <td>...</td>\n",
       "      <td>3</td>\n",
       "      <td>6</td>\n",
       "      <td>15</td>\n",
       "      <td>17</td>\n",
       "      <td>17</td>\n",
       "      <td>6</td>\n",
       "      <td>13</td>\n",
       "      <td>15</td>\n",
       "      <td>15</td>\n",
       "      <td>0</td>\n",
       "    </tr>\n",
       "    <tr>\n",
       "      <th>693038</th>\n",
       "      <td>1761</td>\n",
       "      <td>0</td>\n",
       "      <td>85495</td>\n",
       "      <td>59900</td>\n",
       "      <td>3990</td>\n",
       "      <td>259281</td>\n",
       "      <td>622982</td>\n",
       "      <td>29693</td>\n",
       "      <td>162919</td>\n",
       "      <td>7336</td>\n",
       "      <td>...</td>\n",
       "      <td>3</td>\n",
       "      <td>3</td>\n",
       "      <td>6</td>\n",
       "      <td>6</td>\n",
       "      <td>6</td>\n",
       "      <td>3</td>\n",
       "      <td>4</td>\n",
       "      <td>4</td>\n",
       "      <td>4</td>\n",
       "      <td>0</td>\n",
       "    </tr>\n",
       "    <tr>\n",
       "      <th>693039</th>\n",
       "      <td>1761</td>\n",
       "      <td>0</td>\n",
       "      <td>85495</td>\n",
       "      <td>59900</td>\n",
       "      <td>3047</td>\n",
       "      <td>259281</td>\n",
       "      <td>622982</td>\n",
       "      <td>29693</td>\n",
       "      <td>162919</td>\n",
       "      <td>7336</td>\n",
       "      <td>...</td>\n",
       "      <td>3</td>\n",
       "      <td>3</td>\n",
       "      <td>6</td>\n",
       "      <td>6</td>\n",
       "      <td>6</td>\n",
       "      <td>3</td>\n",
       "      <td>4</td>\n",
       "      <td>4</td>\n",
       "      <td>4</td>\n",
       "      <td>0</td>\n",
       "    </tr>\n",
       "    <tr>\n",
       "      <th>693040</th>\n",
       "      <td>1761</td>\n",
       "      <td>141</td>\n",
       "      <td>85495</td>\n",
       "      <td>59900</td>\n",
       "      <td>96411</td>\n",
       "      <td>259281</td>\n",
       "      <td>113943</td>\n",
       "      <td>888</td>\n",
       "      <td>162919</td>\n",
       "      <td>53742</td>\n",
       "      <td>...</td>\n",
       "      <td>0</td>\n",
       "      <td>0</td>\n",
       "      <td>2</td>\n",
       "      <td>2</td>\n",
       "      <td>2</td>\n",
       "      <td>0</td>\n",
       "      <td>0</td>\n",
       "      <td>0</td>\n",
       "      <td>0</td>\n",
       "      <td>0</td>\n",
       "    </tr>\n",
       "    <tr>\n",
       "      <th>693042</th>\n",
       "      <td>1761</td>\n",
       "      <td>141</td>\n",
       "      <td>85495</td>\n",
       "      <td>59900</td>\n",
       "      <td>3439</td>\n",
       "      <td>127</td>\n",
       "      <td>1311</td>\n",
       "      <td>215606</td>\n",
       "      <td>162919</td>\n",
       "      <td>8617</td>\n",
       "      <td>...</td>\n",
       "      <td>2</td>\n",
       "      <td>4</td>\n",
       "      <td>7</td>\n",
       "      <td>7</td>\n",
       "      <td>7</td>\n",
       "      <td>4</td>\n",
       "      <td>5</td>\n",
       "      <td>5</td>\n",
       "      <td>5</td>\n",
       "      <td>1</td>\n",
       "    </tr>\n",
       "  </tbody>\n",
       "</table>\n",
       "<p>519615 rows × 71 columns</p>\n",
       "</div>\n",
       "    <div class=\"colab-df-buttons\">\n",
       "\n",
       "  <div class=\"colab-df-container\">\n",
       "    <button class=\"colab-df-convert\" onclick=\"convertToInteractive('df-2b328b9f-3b8d-4840-9834-c690dc7070a8')\"\n",
       "            title=\"Convert this dataframe to an interactive table.\"\n",
       "            style=\"display:none;\">\n",
       "\n",
       "  <svg xmlns=\"http://www.w3.org/2000/svg\" height=\"24px\" viewBox=\"0 -960 960 960\">\n",
       "    <path d=\"M120-120v-720h720v720H120Zm60-500h600v-160H180v160Zm220 220h160v-160H400v160Zm0 220h160v-160H400v160ZM180-400h160v-160H180v160Zm440 0h160v-160H620v160ZM180-180h160v-160H180v160Zm440 0h160v-160H620v160Z\"/>\n",
       "  </svg>\n",
       "    </button>\n",
       "\n",
       "  <style>\n",
       "    .colab-df-container {\n",
       "      display:flex;\n",
       "      gap: 12px;\n",
       "    }\n",
       "\n",
       "    .colab-df-convert {\n",
       "      background-color: #E8F0FE;\n",
       "      border: none;\n",
       "      border-radius: 50%;\n",
       "      cursor: pointer;\n",
       "      display: none;\n",
       "      fill: #1967D2;\n",
       "      height: 32px;\n",
       "      padding: 0 0 0 0;\n",
       "      width: 32px;\n",
       "    }\n",
       "\n",
       "    .colab-df-convert:hover {\n",
       "      background-color: #E2EBFA;\n",
       "      box-shadow: 0px 1px 2px rgba(60, 64, 67, 0.3), 0px 1px 3px 1px rgba(60, 64, 67, 0.15);\n",
       "      fill: #174EA6;\n",
       "    }\n",
       "\n",
       "    .colab-df-buttons div {\n",
       "      margin-bottom: 4px;\n",
       "    }\n",
       "\n",
       "    [theme=dark] .colab-df-convert {\n",
       "      background-color: #3B4455;\n",
       "      fill: #D2E3FC;\n",
       "    }\n",
       "\n",
       "    [theme=dark] .colab-df-convert:hover {\n",
       "      background-color: #434B5C;\n",
       "      box-shadow: 0px 1px 3px 1px rgba(0, 0, 0, 0.15);\n",
       "      filter: drop-shadow(0px 1px 2px rgba(0, 0, 0, 0.3));\n",
       "      fill: #FFFFFF;\n",
       "    }\n",
       "  </style>\n",
       "\n",
       "    <script>\n",
       "      const buttonEl =\n",
       "        document.querySelector('#df-2b328b9f-3b8d-4840-9834-c690dc7070a8 button.colab-df-convert');\n",
       "      buttonEl.style.display =\n",
       "        google.colab.kernel.accessAllowed ? 'block' : 'none';\n",
       "\n",
       "      async function convertToInteractive(key) {\n",
       "        const element = document.querySelector('#df-2b328b9f-3b8d-4840-9834-c690dc7070a8');\n",
       "        const dataTable =\n",
       "          await google.colab.kernel.invokeFunction('convertToInteractive',\n",
       "                                                    [key], {});\n",
       "        if (!dataTable) return;\n",
       "\n",
       "        const docLinkHtml = 'Like what you see? Visit the ' +\n",
       "          '<a target=\"_blank\" href=https://colab.research.google.com/notebooks/data_table.ipynb>data table notebook</a>'\n",
       "          + ' to learn more about interactive tables.';\n",
       "        element.innerHTML = '';\n",
       "        dataTable['output_type'] = 'display_data';\n",
       "        await google.colab.output.renderOutput(dataTable, element);\n",
       "        const docLink = document.createElement('div');\n",
       "        docLink.innerHTML = docLinkHtml;\n",
       "        element.appendChild(docLink);\n",
       "      }\n",
       "    </script>\n",
       "  </div>\n",
       "\n",
       "\n",
       "<div id=\"df-91ea35ca-2f5b-40ba-b59f-aeddd9647c83\">\n",
       "  <button class=\"colab-df-quickchart\" onclick=\"quickchart('df-91ea35ca-2f5b-40ba-b59f-aeddd9647c83')\"\n",
       "            title=\"Suggest charts\"\n",
       "            style=\"display:none;\">\n",
       "\n",
       "<svg xmlns=\"http://www.w3.org/2000/svg\" height=\"24px\"viewBox=\"0 0 24 24\"\n",
       "     width=\"24px\">\n",
       "    <g>\n",
       "        <path d=\"M19 3H5c-1.1 0-2 .9-2 2v14c0 1.1.9 2 2 2h14c1.1 0 2-.9 2-2V5c0-1.1-.9-2-2-2zM9 17H7v-7h2v7zm4 0h-2V7h2v10zm4 0h-2v-4h2v4z\"/>\n",
       "    </g>\n",
       "</svg>\n",
       "  </button>\n",
       "\n",
       "<style>\n",
       "  .colab-df-quickchart {\n",
       "      --bg-color: #E8F0FE;\n",
       "      --fill-color: #1967D2;\n",
       "      --hover-bg-color: #E2EBFA;\n",
       "      --hover-fill-color: #174EA6;\n",
       "      --disabled-fill-color: #AAA;\n",
       "      --disabled-bg-color: #DDD;\n",
       "  }\n",
       "\n",
       "  [theme=dark] .colab-df-quickchart {\n",
       "      --bg-color: #3B4455;\n",
       "      --fill-color: #D2E3FC;\n",
       "      --hover-bg-color: #434B5C;\n",
       "      --hover-fill-color: #FFFFFF;\n",
       "      --disabled-bg-color: #3B4455;\n",
       "      --disabled-fill-color: #666;\n",
       "  }\n",
       "\n",
       "  .colab-df-quickchart {\n",
       "    background-color: var(--bg-color);\n",
       "    border: none;\n",
       "    border-radius: 50%;\n",
       "    cursor: pointer;\n",
       "    display: none;\n",
       "    fill: var(--fill-color);\n",
       "    height: 32px;\n",
       "    padding: 0;\n",
       "    width: 32px;\n",
       "  }\n",
       "\n",
       "  .colab-df-quickchart:hover {\n",
       "    background-color: var(--hover-bg-color);\n",
       "    box-shadow: 0 1px 2px rgba(60, 64, 67, 0.3), 0 1px 3px 1px rgba(60, 64, 67, 0.15);\n",
       "    fill: var(--button-hover-fill-color);\n",
       "  }\n",
       "\n",
       "  .colab-df-quickchart-complete:disabled,\n",
       "  .colab-df-quickchart-complete:disabled:hover {\n",
       "    background-color: var(--disabled-bg-color);\n",
       "    fill: var(--disabled-fill-color);\n",
       "    box-shadow: none;\n",
       "  }\n",
       "\n",
       "  .colab-df-spinner {\n",
       "    border: 2px solid var(--fill-color);\n",
       "    border-color: transparent;\n",
       "    border-bottom-color: var(--fill-color);\n",
       "    animation:\n",
       "      spin 1s steps(1) infinite;\n",
       "  }\n",
       "\n",
       "  @keyframes spin {\n",
       "    0% {\n",
       "      border-color: transparent;\n",
       "      border-bottom-color: var(--fill-color);\n",
       "      border-left-color: var(--fill-color);\n",
       "    }\n",
       "    20% {\n",
       "      border-color: transparent;\n",
       "      border-left-color: var(--fill-color);\n",
       "      border-top-color: var(--fill-color);\n",
       "    }\n",
       "    30% {\n",
       "      border-color: transparent;\n",
       "      border-left-color: var(--fill-color);\n",
       "      border-top-color: var(--fill-color);\n",
       "      border-right-color: var(--fill-color);\n",
       "    }\n",
       "    40% {\n",
       "      border-color: transparent;\n",
       "      border-right-color: var(--fill-color);\n",
       "      border-top-color: var(--fill-color);\n",
       "    }\n",
       "    60% {\n",
       "      border-color: transparent;\n",
       "      border-right-color: var(--fill-color);\n",
       "    }\n",
       "    80% {\n",
       "      border-color: transparent;\n",
       "      border-right-color: var(--fill-color);\n",
       "      border-bottom-color: var(--fill-color);\n",
       "    }\n",
       "    90% {\n",
       "      border-color: transparent;\n",
       "      border-bottom-color: var(--fill-color);\n",
       "    }\n",
       "  }\n",
       "</style>\n",
       "\n",
       "  <script>\n",
       "    async function quickchart(key) {\n",
       "      const quickchartButtonEl =\n",
       "        document.querySelector('#' + key + ' button');\n",
       "      quickchartButtonEl.disabled = true;  // To prevent multiple clicks.\n",
       "      quickchartButtonEl.classList.add('colab-df-spinner');\n",
       "      try {\n",
       "        const charts = await google.colab.kernel.invokeFunction(\n",
       "            'suggestCharts', [key], {});\n",
       "      } catch (error) {\n",
       "        console.error('Error during call to suggestCharts:', error);\n",
       "      }\n",
       "      quickchartButtonEl.classList.remove('colab-df-spinner');\n",
       "      quickchartButtonEl.classList.add('colab-df-quickchart-complete');\n",
       "    }\n",
       "    (() => {\n",
       "      let quickchartButtonEl =\n",
       "        document.querySelector('#df-91ea35ca-2f5b-40ba-b59f-aeddd9647c83 button');\n",
       "      quickchartButtonEl.style.display =\n",
       "        google.colab.kernel.accessAllowed ? 'block' : 'none';\n",
       "    })();\n",
       "  </script>\n",
       "</div>\n",
       "    </div>\n",
       "  </div>\n"
      ],
      "text/plain": [
       "        feature1  feature3  feature37  feature43  feature55  feature152  \\\n",
       "0           1761        85      85495      19131      27157        5099   \n",
       "1           1761       120      85495      59900     138924       49546   \n",
       "2            890       141      85495      11110     278364        2046   \n",
       "5           1599        30      85495      38606     148572      259281   \n",
       "6           1761        85          0      17927     438447        6750   \n",
       "...          ...       ...        ...        ...        ...         ...   \n",
       "693036      1761       141      85495      59900     173987      259281   \n",
       "693038      1761         0      85495      59900       3990      259281   \n",
       "693039      1761         0      85495      59900       3047      259281   \n",
       "693040      1761       141      85495      59900      96411      259281   \n",
       "693042      1761       141      85495      59900       3439         127   \n",
       "\n",
       "        feature154  feature162  feature170  feature178  ...  feature988  \\\n",
       "0           383300      116910      162919      446934  ...           0   \n",
       "1           561368       66335      162919      456123  ...           0   \n",
       "2            97389       19218      162919      211763  ...           2   \n",
       "5            18197      112356      162919      306530  ...           1   \n",
       "6           429713       78336      162919      222166  ...           0   \n",
       "...            ...         ...         ...         ...  ...         ...   \n",
       "693036       42517       33886      162919       21914  ...           3   \n",
       "693038      622982       29693      162919        7336  ...           3   \n",
       "693039      622982       29693      162919        7336  ...           3   \n",
       "693040      113943         888      162919       53742  ...           0   \n",
       "693042        1311      215606      162919        8617  ...           2   \n",
       "\n",
       "        feature990  feature992  feature993  feature994  feature1000  \\\n",
       "0                1           5           8          16            1   \n",
       "1                0           4          10          22            0   \n",
       "2                3           9          24          40            3   \n",
       "5                2           5           5           5            2   \n",
       "6                1           6          12          14            1   \n",
       "...            ...         ...         ...         ...          ...   \n",
       "693036           6          15          17          17            6   \n",
       "693038           3           6           6           6            3   \n",
       "693039           3           6           6           6            3   \n",
       "693040           0           2           2           2            0   \n",
       "693042           4           7           7           7            4   \n",
       "\n",
       "        feature1002  feature1003  feature1004  target  \n",
       "0                 3            6           14       0  \n",
       "1                 3            9           22       0  \n",
       "2                 8           23           40       0  \n",
       "5                 3            3            3       0  \n",
       "6                 4           10           12       0  \n",
       "...             ...          ...          ...     ...  \n",
       "693036           13           15           15       0  \n",
       "693038            4            4            4       0  \n",
       "693039            4            4            4       0  \n",
       "693040            0            0            0       0  \n",
       "693042            5            5            5       1  \n",
       "\n",
       "[519615 rows x 71 columns]"
      ]
     },
     "execution_count": 5,
     "metadata": {},
     "output_type": "execute_result"
    }
   ],
   "source": [
    "df = pd.read_parquet('/content/drive/MyDrive/Копия train_ai_comp_final_dp.parquet')[selected_features_names + ['target']]\n",
    "df"
   ]
  },
  {
   "cell_type": "code",
   "execution_count": 14,
   "metadata": {
    "colab": {
     "base_uri": "https://localhost:8080/"
    },
    "execution": {
     "iopub.execute_input": "2024-03-12T18:16:31.315958Z",
     "iopub.status.busy": "2024-03-12T18:16:31.315597Z",
     "iopub.status.idle": "2024-03-12T18:21:38.841128Z",
     "shell.execute_reply": "2024-03-12T18:21:38.840090Z",
     "shell.execute_reply.started": "2024-03-12T18:16:31.315928Z"
    },
    "id": "s61K9I6Uu9ii",
    "outputId": "db76d0b8-1907-4bad-efd5-45e68de31ffa"
   },
   "outputs": [
    {
     "name": "stdout",
     "output_type": "stream",
     "text": [
      "interval columns not set, guessing: ['feature1', 'feature3', 'feature37', 'feature43', 'feature55', 'feature152', 'feature154', 'feature162', 'feature170', 'feature178', 'feature188', 'feature190', 'feature191', 'feature198', 'feature208', 'feature209', 'feature318', 'feature319', 'feature341', 'feature349', 'feature350', 'feature356', 'feature357', 'feature405', 'feature422', 'feature435', 'feature450', 'feature461', 'feature472', 'feature499', 'feature546', 'feature548', 'feature559', 'feature713', 'feature714', 'feature758', 'feature861', 'feature862', 'feature865', 'feature869', 'feature898', 'feature900', 'feature909', 'feature913', 'feature915', 'feature920', 'feature930', 'feature935', 'feature936', 'feature937', 'feature939', 'feature940', 'feature941', 'feature944', 'feature947', 'feature949', 'feature950', 'feature951', 'feature952', 'feature953', 'feature954', 'feature988', 'feature990', 'feature992', 'feature993', 'feature994', 'feature1000', 'feature1002', 'feature1003', 'feature1004']\n"
     ]
    }
   ],
   "source": [
    "import phik\n",
    "corr_matrix = df[selected_features_names].phik_matrix().abs()\n",
    "threshold = 0.8\n",
    "\n",
    "# Находим пары признаков, которые сильно коррелируют\n",
    "upper = corr_matrix.where(np.triu(np.ones(corr_matrix.shape), k=1).astype(np.bool_))\n",
    "to_drop = [column for column in upper.columns if any(upper[column] > threshold)]\n",
    "\n",
    "# Удаляем один из признаков из каждой пары сильно коррелирующих признаков\n",
    "df.drop(df[to_drop], axis=1, inplace=True)\n"
   ]
  },
  {
   "cell_type": "code",
   "execution_count": 6,
   "metadata": {
    "execution": {
     "iopub.execute_input": "2024-03-13T13:48:17.649837Z",
     "iopub.status.busy": "2024-03-13T13:48:17.649013Z",
     "iopub.status.idle": "2024-03-13T13:48:18.022991Z",
     "shell.execute_reply": "2024-03-13T13:48:18.022010Z",
     "shell.execute_reply.started": "2024-03-13T13:48:17.649796Z"
    },
    "id": "X17LPgy9u9ij"
   },
   "outputs": [],
   "source": [
    "l = []\n",
    "for col in selected_features_names:\n",
    "    if len(df[col].unique()) == 1 and col != 'target':\n",
    "        l.append(col)\n",
    "cols_with_one_unique_num = l"
   ]
  },
  {
   "cell_type": "code",
   "execution_count": 7,
   "metadata": {
    "execution": {
     "iopub.execute_input": "2024-03-13T13:48:25.268975Z",
     "iopub.status.busy": "2024-03-13T13:48:25.268589Z",
     "iopub.status.idle": "2024-03-13T13:48:25.274929Z",
     "shell.execute_reply": "2024-03-13T13:48:25.273799Z",
     "shell.execute_reply.started": "2024-03-13T13:48:25.268937Z"
    },
    "id": "EyQI8LVnu9ij"
   },
   "outputs": [],
   "source": [
    "def preproc(df):\n",
    "\n",
    "    df = df.drop(cols_with_one_unique_num, axis=1)\n",
    "    X_train, X_test, y_train, y_test = train_test_split(\n",
    "    df.drop('target', axis=1),\n",
    "    df['target'],\n",
    "    test_size=0.2,\n",
    "    random_state=42,\n",
    "        shuffle=True,\n",
    "        stratify=df['target']\n",
    "    )\n",
    "\n",
    "    return X_train, X_test, y_train, y_test"
   ]
  },
  {
   "cell_type": "code",
   "execution_count": null,
   "metadata": {
    "execution": {
     "iopub.execute_input": "2024-03-13T13:48:36.902487Z",
     "iopub.status.busy": "2024-03-13T13:48:36.902149Z",
     "iopub.status.idle": "2024-03-13T13:48:37.558072Z",
     "shell.execute_reply": "2024-03-13T13:48:37.556787Z",
     "shell.execute_reply.started": "2024-03-13T13:48:36.902462Z"
    },
    "id": "II8a5cEpu9ij"
   },
   "outputs": [],
   "source": [
    "X_train, X_test, y_train, y_test = preproc(df)"
   ]
  },
  {
   "cell_type": "markdown",
   "metadata": {
    "id": "xIDxc0o3z0Nt"
   },
   "source": [
    "прочитаем сохраненные анномальные сэмплы, которые мы обнаружили с помощью автоенкодера\n",
    "\n"
   ]
  },
  {
   "cell_type": "code",
   "execution_count": 20,
   "metadata": {
    "id": "x2534YTcTXxj"
   },
   "outputs": [],
   "source": [
    "annomal = pd.read_csv('/content/1.csv')"
   ]
  },
  {
   "cell_type": "code",
   "execution_count": 10,
   "metadata": {
    "execution": {
     "iopub.execute_input": "2024-03-13T13:48:38.816107Z",
     "iopub.status.busy": "2024-03-13T13:48:38.815119Z",
     "iopub.status.idle": "2024-03-13T13:48:39.179123Z",
     "shell.execute_reply": "2024-03-13T13:48:39.178128Z",
     "shell.execute_reply.started": "2024-03-13T13:48:38.816073Z"
    },
    "id": "4I3sFKRHu9ij"
   },
   "outputs": [],
   "source": [
    "binary_ftrs = []\n",
    "for col in df.columns:\n",
    "    if len(df[col].unique()) == 2 and set(df[col].unique()) == set([0, 1]):\n",
    "        binary_ftrs.append(col)\n",
    "binary_ftrs.remove('target')"
   ]
  },
  {
   "cell_type": "code",
   "execution_count": 11,
   "metadata": {
    "execution": {
     "iopub.execute_input": "2024-03-13T01:28:05.071913Z",
     "iopub.status.busy": "2024-03-13T01:28:05.071518Z",
     "iopub.status.idle": "2024-03-13T01:28:05.078394Z",
     "shell.execute_reply": "2024-03-13T01:28:05.077239Z",
     "shell.execute_reply.started": "2024-03-13T01:28:05.071885Z"
    },
    "id": "Pv3RM88Yu9ij"
   },
   "outputs": [],
   "source": [
    "iters=5000\n",
    "depth=10\n",
    "grow_policy='Lossguide'\n",
    "min_data_in_leaf=100\n",
    "loss='Logloss'"
   ]
  },
  {
   "cell_type": "code",
   "execution_count": null,
   "metadata": {},
   "outputs": [],
   "source": [
    "cb1 = CatBoostClassifier(\n",
    "         iterations=1000,\n",
    "         depth=10,\n",
    "         loss_function='CrossEntropy',\n",
    "         grow_policy='Lossguide',\n",
    "         min_data_in_leaf=100,\n",
    "         task_type= 'GPU',\n",
    "         devices= 'cuda',\n",
    "         verbose=250,\n",
    "         random_state=42,\n",
    "         l2_leaf_reg = 7\n",
    "     )\n",
    "\n",
    "cb2 = CatBoostClassifier(\n",
    "         iterations=1000,\n",
    "         depth=10,\n",
    "         loss_function='CrossEntropy',\n",
    "         grow_policy='Lossguide',\n",
    "         min_data_in_leaf=10,\n",
    "         task_type= 'GPU',\n",
    "         devices= 'cuda',\n",
    "         verbose=250,\n",
    "         random_state=42,\n",
    "         l2_leaf_reg = 10\n",
    "     )\n",
    "\n",
    "cb3 = CatBoostClassifier(\n",
    "         iterations=1000,\n",
    "         depth=7,\n",
    "         loss_function='CrossEntropy',\n",
    "         grow_policy='Lossguide',\n",
    "         min_data_in_leaf=100,\n",
    "         task_type= 'GPU',\n",
    "         devices= 'cuda',\n",
    "         verbose=250,\n",
    "         random_state=42,\n",
    "         l2_leaf_reg = 0.5\n",
    "     )"
   ]
  },
  {
   "cell_type": "code",
   "execution_count": null,
   "metadata": {},
   "outputs": [],
   "source": [
    "def cb_train(model, X, y):\n",
    "    weight2zero = 7\n",
    "    weights = [weight2zero if label == 1 else 1 for label in y]\n",
    "    pool = Pool(X, label=y,\n",
    "                weight=weights)\n",
    "    model.fit(pool)"
   ]
  },
  {
   "cell_type": "markdown",
   "metadata": {},
   "source": [
    "Фичи, полученные в результате арифметических операций над ними. \n",
    "Каждая из них дает какой-то импакт, отобрали лишь лучшие"
   ]
  },
  {
   "cell_type": "code",
   "execution_count": null,
   "metadata": {},
   "outputs": [],
   "source": [
    "X_train['gold'] = X_train['feature546'] ** 3\n",
    "X_train['gold2'] = (X_train['feature191'] + X_train['feature341']) / 2\n",
    "#X_train['gold3'] = (X_train['feature162'] + X_train['feature862']) / 2\n",
    "#X_train['gold4'] = X_train['feature992'] ** 3\n",
    "#X_train['gold5'] = X_train['feature356'] ** 2\n",
    "#X_train['gold6'] = (X_train['feature178'] + X_train['feature950']) / 2\n",
    "#X_train['gold7'] = (X_train['feature190'] + X_train['feature949']) / 2\n",
    "#X_train['gold8'] = (X_train['feature55'] + X_train['feature954']) / 2"
   ]
  },
  {
   "cell_type": "code",
   "execution_count": null,
   "metadata": {},
   "outputs": [],
   "source": [
    "cb_train(cb1, X_train, y_train) ### weights\n",
    "cb_train(cb2, X_train, y_train)\n",
    "cb_train(cb3, X_train, y_train)"
   ]
  },
  {
   "cell_type": "code",
   "execution_count": null,
   "metadata": {},
   "outputs": [],
   "source": [
    "cb1.fit(X_train, y_train) ### wihtout weights\n",
    "cb2.fit(X_train, y_train)\n",
    "cb3.fit(X_train, y_train)"
   ]
  },
  {
   "cell_type": "code",
   "execution_count": null,
   "metadata": {},
   "outputs": [],
   "source": [
    "test_df = pd.read_parquet('/content/drive/MyDrive/purplehack/test_sber.parquet')"
   ]
  },
  {
   "cell_type": "code",
   "execution_count": null,
   "metadata": {},
   "outputs": [],
   "source": [
    "test_df = test_df[selected_features_names]"
   ]
  },
  {
   "cell_type": "code",
   "execution_count": null,
   "metadata": {},
   "outputs": [],
   "source": [
    "test_df['gold'] = test_df['feature546'] ** 3\n",
    "test_df['gold2'] = (test_df['feature191'] + test_df['feature341']) / 2\n",
    "#test_df['gold3'] = (test_df['feature162'] + test_df['feature862']) / 2\n",
    "#test_df['gold4'] = test_df['feature992'] ** 3\n",
    "#test_df['gold5'] = test_df['feature356'] ** 2\n",
    "#test_df['gold6'] = (test_df['feature178'] + test_df['feature950']) / 2\n",
    "#test_df['gold7'] = (test_df['feature190'] + test_df['feature949']) / 2\n",
    "#test_df['gold8'] = (test_df['feature55'] + test_df['feature954']) / 2"
   ]
  },
  {
   "cell_type": "code",
   "execution_count": null,
   "metadata": {},
   "outputs": [],
   "source": [
    "y_preds_catboost1 = cb1.predict(test_df, prediction_type='Probability')[:, 1]\n",
    "y_preds_catboost2 = cb2.predict(test_df, prediction_type='Probability')[:, 1]\n",
    "y_preds_catboost3 = cb3.predict(test_df, prediction_type='Probability')[:, 1]"
   ]
  },
  {
   "cell_type": "code",
   "execution_count": null,
   "metadata": {},
   "outputs": [],
   "source": [
    "y_preds_catboost = (y_preds_catboost1 + y_preds_catboost2 + y_preds_catboost3) / 3"
   ]
  },
  {
   "cell_type": "code",
   "execution_count": null,
   "metadata": {},
   "outputs": [],
   "source": [
    "pred_binary = (y_preds_catboost >= 0.5).astype(int)"
   ]
  },
  {
   "cell_type": "code",
   "execution_count": null,
   "metadata": {},
   "outputs": [],
   "source": [
    "submission = pd.read_csv(\"/content/drive/MyDrive/purplehack/sample_submission.csv\")\n",
    "submission.head(3)"
   ]
  },
  {
   "cell_type": "code",
   "execution_count": null,
   "metadata": {},
   "outputs": [],
   "source": [
    "submission[\"target_prob\"] = y_preds_catboost\n",
    "submission[\"target_bin\"] = pred_binary\n",
    "submission.head(3)"
   ]
  },
  {
   "cell_type": "code",
   "execution_count": null,
   "metadata": {},
   "outputs": [],
   "source": [
    "submission.to_csv('solution30.csv')"
   ]
  },
  {
   "cell_type": "markdown",
   "metadata": {},
   "source": [
    "Ниже приведен код наших наработок, что-то мы решили оставить"
   ]
  },
  {
   "cell_type": "code",
   "execution_count": 28,
   "metadata": {
    "colab": {
     "base_uri": "https://localhost:8080/"
    },
    "execution": {
     "iopub.execute_input": "2024-03-13T01:34:48.841546Z",
     "iopub.status.busy": "2024-03-13T01:34:48.840745Z"
    },
    "id": "hbHehjX5u9ij",
    "outputId": "3a98bc9f-32d2-4ae9-8065-7ed8c71470ef"
   },
   "outputs": [
    {
     "name": "stdout",
     "output_type": "stream",
     "text": [
      "0:\tlearn: 0.6796268\ttotal: 149ms\tremaining: 4m 54s\n",
      "500:\tlearn: 0.4324007\ttotal: 12s\tremaining: 35.6s\n",
      "1000:\tlearn: 0.3348728\ttotal: 22.1s\tremaining: 21.7s\n",
      "1500:\tlearn: 0.2663290\ttotal: 32.1s\tremaining: 10.3s\n",
      "1980:\tlearn: 0.2160031\ttotal: 38.9s\tremaining: 0us\n",
      "0:\tlearn: 0.6887491\ttotal: 95.5ms\tremaining: 1m 20s\n",
      "500:\tlearn: 0.5253370\ttotal: 8.98s\tremaining: 6.22s\n",
      "847:\tlearn: 0.4884725\ttotal: 17.2s\tremaining: 0us\n"
     ]
    },
    {
     "name": "stderr",
     "output_type": "stream",
     "text": [
      "/usr/local/lib/python3.10/dist-packages/sklearn/linear_model/_logistic.py:458: ConvergenceWarning: lbfgs failed to converge (status=1):\n",
      "STOP: TOTAL NO. of ITERATIONS REACHED LIMIT.\n",
      "\n",
      "Increase the number of iterations (max_iter) or scale the data as shown in:\n",
      "    https://scikit-learn.org/stable/modules/preprocessing.html\n",
      "Please also refer to the documentation for alternative solver options:\n",
      "    https://scikit-learn.org/stable/modules/linear_model.html#logistic-regression\n",
      "  n_iter_i = _check_optimize_result(\n"
     ]
    }
   ],
   "source": [
    "from sklearn.ensemble import StackingClassifier\n",
    "from sklearn.neural_network import MLPClassifier\n",
    "from sklearn.pipeline import make_pipeline\n",
    "from sklearn.preprocessing import StandardScaler\n",
    "from sklearn.neighbors import KNeighborsClassifier\n",
    "from catboost import CatBoostClassifier\n",
    "from sklearn.linear_model import LogisticRegression\n",
    "estimators = [\n",
    "    ('cb1', CatBoostClassifier(\n",
    "        iterations = 1981,\n",
    "        learning_rate = 0.08980170628143959,\n",
    "        depth = 6,\n",
    "        l2_leaf_reg= 0.00027521034286452395,\n",
    "        bootstrap_type= \"Bayesian\",\n",
    "        random_strength= 0.0031699081695415504,\n",
    "        bagging_temperature= 0.53459789722924,\n",
    "        od_type= 'IncToDec',\n",
    "        od_wait= 29,\n",
    "#         'learning_rate': lr,\n",
    "        min_data_in_leaf= min_data_in_leaf,\n",
    "        # \"max_leaves\": max_leaves,\n",
    "        grow_policy= grow_policy,\n",
    "        auto_class_weights = 'Balanced',\n",
    "        custom_metric= \"F1\",\n",
    "        loss_function= loss,\n",
    "        task_type= 'GPU',\n",
    "        random_seed=111,\n",
    "        devices= 'cuda',\n",
    "        verbose=500\n",
    "    )),\n",
    "    ('cb2', CatBoostClassifier(\n",
    "        iterations=848,\n",
    "        depth=10,\n",
    "        learning_rate=0.027203465579225036,\n",
    "        l2_leaf_reg=13.798219615181592,\n",
    "        bootstrap_type='Bayesian',\n",
    "        grow_policy='Lossguide',\n",
    "        random_strength=0.1917267342206983,\n",
    "        bagging_temperature=0.4239703351202647,\n",
    "        od_type='IncToDec',\n",
    "        od_wait=46,\n",
    "        auto_class_weights = 'Balanced',\n",
    "        custom_metric= \"F1\",\n",
    "        loss_function= loss,\n",
    "        task_type= 'GPU',\n",
    "        random_seed=121,\n",
    "        devices= 'cuda',\n",
    "        verbose=500\n",
    "    )),\n",
    "    ('logreg', LogisticRegression()),\n",
    "    ('xgb', xgb.XGBClassifier(objective='binary:logistic', n_estimators=100, seed=42)\n",
    ")\n",
    "]\n",
    "for name_m, model in estimators:\n",
    "    if name_m != 'mlp':\n",
    "        model.fit(X_train, y_train)\n",
    "    else:\n",
    "        model.fit(StandardScaler().fit_transform(X_train), y_train)\n",
    "# st_clf = StackingClassifier(estimators=estimators, final_estimator=CatBoostClassifier(), stack_method='predict_proba')\n",
    "# st_clf.fit(X_train, y_train)"
   ]
  },
  {
   "cell_type": "code",
   "execution_count": null,
   "metadata": {
    "execution": {
     "iopub.execute_input": "2024-03-11T14:22:04.543680Z",
     "iopub.status.busy": "2024-03-11T14:22:04.543435Z",
     "iopub.status.idle": "2024-03-11T14:22:04.552550Z",
     "shell.execute_reply": "2024-03-11T14:22:04.551702Z",
     "shell.execute_reply.started": "2024-03-11T14:22:04.543658Z"
    },
    "id": "SfbUpPWru9ik"
   },
   "outputs": [],
   "source": [
    "def cb_train(X, y, iters, depth, min_data_in_leaf, grow_policy, loss, lr=None,test_size = 0.2):\n",
    "    weight2zero = len(y_train[y_train==0]) / len(y_train[y_train==1])\n",
    "    weights = [weight2zero if label == 1 else 1 for label in y]\n",
    "    pool = Pool(X, label=y,\n",
    "                weight=weights,\n",
    "                cat_features=binary_ftrs\n",
    "               )\n",
    "\n",
    "    params = {\n",
    "        \"iterations\": 1981,\n",
    "        \"learning_rate\": 0.08980170628143959,\n",
    "        \"depth\": 6,\n",
    "        \"l2_leaf_reg\": 0.00027521034286452395,\n",
    "        \"bootstrap_type\": \"Bayesian\",\n",
    "        'random_strength': 0.0031699081695415504,\n",
    "        'bagging_temperature': 0.53459789722924,\n",
    "        'od_type': 'IncToDec',\n",
    "        'od_wait': 29,\n",
    "        \"min_data_in_leaf\": min_data_in_leaf,\n",
    "        \"grow_policy\": grow_policy,\n",
    "        \"custom_metric\": \"F1\",\n",
    "        'loss_function': loss,\n",
    "        'task_type': 'GPU',\n",
    "        'devices': 'cuda'\n",
    "    }\n",
    "    cv_train, models = cv(pool=pool,\n",
    "                  params = params,\n",
    "                  fold_count=5,\n",
    "                  verbose=250,\n",
    "                  shuffle=True,\n",
    "                  stratified = True,\n",
    "                  early_stopping_rounds=100,\n",
    "                  return_models=True\n",
    "    )\n",
    "    best_iter = cv_train[\"test-F1:use_weights=true-mean\"].argmax()\n",
    "    print(\n",
    "        f'F1:use_weights=true: {cv_train[\"test-F1:use_weights=true-mean\"][best_iter]}\\n'\n",
    "    )\n",
    "    return models"
   ]
  },
  {
   "cell_type": "code",
   "execution_count": null,
   "metadata": {
    "execution": {
     "iopub.execute_input": "2024-03-11T14:22:04.554168Z",
     "iopub.status.busy": "2024-03-11T14:22:04.553817Z",
     "iopub.status.idle": "2024-03-11T14:22:38.004251Z",
     "shell.execute_reply": "2024-03-11T14:22:38.003282Z",
     "shell.execute_reply.started": "2024-03-11T14:22:04.554138Z"
    },
    "id": "dldQ9kzCu9ik",
    "outputId": "099cb5a0-eff2-49cb-c2c7-942d6d4e303d"
   },
   "outputs": [
    {
     "name": "stdout",
     "output_type": "stream",
     "text": [
      "Training on fold [0/5]\n",
      "0:\tlearn: 0.6811967\ttest: 0.6816083\tbest: 0.6816083 (0)\ttotal: 17.9s\tremaining: 9h 51m 11s\n",
      "bestTest = 0.6002143614\n",
      "bestIteration = 90\n",
      "Training on fold [1/5]\n",
      "0:\tlearn: 0.6808092\ttest: 0.6816505\tbest: 0.6816505 (0)\ttotal: 12.5ms\tremaining: 24.7s\n",
      "bestTest = 0.6036208072\n",
      "bestIteration = 87\n",
      "Training on fold [2/5]\n",
      "0:\tlearn: 0.6810672\ttest: 0.6814299\tbest: 0.6814299 (0)\ttotal: 12.7ms\tremaining: 25.2s\n",
      "bestTest = 0.6029950572\n",
      "bestIteration = 90\n",
      "Training on fold [3/5]\n",
      "0:\tlearn: 0.6812246\ttest: 0.6812313\tbest: 0.6812313 (0)\ttotal: 12.7ms\tremaining: 25.1s\n",
      "bestTest = 0.5990150792\n",
      "bestIteration = 80\n",
      "Training on fold [4/5]\n",
      "0:\tlearn: 0.6812206\ttest: 0.6816271\tbest: 0.6816271 (0)\ttotal: 13.3ms\tremaining: 26.3s\n",
      "bestTest = 0.5994037248\n",
      "bestIteration = 97\n",
      "F1:use_weights=true: 0.658451709863143\n",
      "\n"
     ]
    },
    {
     "data": {
      "text/plain": [
       "[<catboost.core.CatBoost at 0x7c37ac118460>,\n",
       " <catboost.core.CatBoost at 0x7c37ac1184c0>,\n",
       " <catboost.core.CatBoost at 0x7c37ac118490>,\n",
       " <catboost.core.CatBoost at 0x7c37ac1187c0>,\n",
       " <catboost.core.CatBoost at 0x7c37ac1187f0>]"
      ]
     },
     "execution_count": 15,
     "metadata": {},
     "output_type": "execute_result"
    }
   ],
   "source": [
    "models = cb_train(X_train, y_train,\n",
    "                  iters=5000,\n",
    "                  depth=10,\n",
    "                  grow_policy='Lossguide',\n",
    "                  min_data_in_leaf=100,\n",
    "                  loss='CrossEntropy')\n",
    "models"
   ]
  },
  {
   "cell_type": "code",
   "execution_count": 56,
   "metadata": {
    "id": "gJN1ulTRu9ik"
   },
   "outputs": [],
   "source": [
    "def validate(X, y, model_stack):\n",
    "    y_preds = model_stack[0][1].predict_proba(X)\n",
    "    for name, model in model_stack[1:]:\n",
    "      y_preds += model.predict_proba(X)\n",
    "    y_preds = (y_preds / len(model_stack)).argmax(-1)\n",
    "    f1_weigthed = f1_score(y, y_preds)\n",
    "    f1_micro = f1_score(y, y_preds, average='micro')\n",
    "    roc_auc = roc_auc_score(y, y_preds)\n",
    "    precision = precision_score(y, y_preds)\n",
    "    recall = recall_score(y, y_preds)\n",
    "\n",
    "    # Возвращаем значения метрик\n",
    "    return {\n",
    "        'F1-weighted Score': f1_weigthed,\n",
    "        'F1-micro Score': f1_micro,\n",
    "        'ROC-AUC Score': roc_auc,\n",
    "        'Precision': precision,\n",
    "        'Recall': recall\n",
    "    }"
   ]
  },
  {
   "cell_type": "code",
   "execution_count": 54,
   "metadata": {
    "colab": {
     "base_uri": "https://localhost:8080/",
     "height": 569
    },
    "id": "IAlk-O6PpuDz",
    "outputId": "53e25fb8-6579-48b4-ac74-c18a08796253"
   },
   "outputs": [
    {
     "data": {
      "text/plain": [
       "(array([[0.0000e+00, 0.0000e+00, 1.6000e+01, 1.0700e+02, 6.3800e+02,\n",
       "         2.9180e+03, 7.6200e+03, 1.7150e+04, 3.5804e+04, 3.9670e+04],\n",
       "        [3.9670e+04, 3.5804e+04, 1.7150e+04, 7.6200e+03, 2.9180e+03,\n",
       "         6.3800e+02, 1.0700e+02, 1.6000e+01, 0.0000e+00, 0.0000e+00]]),\n",
       " array([0.00603233, 0.10482586, 0.20361939, 0.30241293, 0.40120646,\n",
       "        0.5       , 0.59879353, 0.69758707, 0.7963806 , 0.89517414,\n",
       "        0.99396767]),\n",
       " <a list of 2 BarContainer objects>)"
      ]
     },
     "execution_count": 54,
     "metadata": {},
     "output_type": "execute_result"
    },
    {
     "data": {
      "image/png": "[encoded data removed]",
      "text/plain": [
       "<Figure size 640x480 with 1 Axes>"
      ]
     },
     "metadata": {},
     "output_type": "display_data"
    }
   ],
   "source": [
    "plt.hist(temp)"
   ]
  },
  {
   "cell_type": "code",
   "execution_count": 57,
   "metadata": {
    "id": "Ot1ioorsu9ik"
   },
   "outputs": [],
   "source": [
    "validate(X_test, y_test, estimators)"
   ]
  },
  {
   "cell_type": "code",
   "execution_count": 58,
   "metadata": {
    "colab": {
     "base_uri": "https://localhost:8080/"
    },
    "id": "GvkHIu2YqUw4",
    "outputId": "00609f2f-88d2-483f-aeb4-822a71578441"
   },
   "outputs": [
    {
     "data": {
      "text/plain": [
       "{'F1-weighted Score': 0.10384959713518352,\n",
       " 'F1-micro Score': 0.9614714740721496,\n",
       " 'ROC-AUC Score': 0.528652850872598,\n",
       " 'Precision': 0.30486202365308807,\n",
       " 'Recall': 0.062584299973024}"
      ]
     },
     "execution_count": 58,
     "metadata": {},
     "output_type": "execute_result"
    }
   ],
   "source": []
  },
  {
   "cell_type": "markdown",
   "metadata": {
    "id": "Y_M-BlTA0O-L"
   },
   "source": [
    "# NN Embeddings"
   ]
  },
  {
   "cell_type": "code",
   "execution_count": 14,
   "metadata": {
    "execution": {
     "iopub.execute_input": "2024-03-13T13:52:54.378960Z",
     "iopub.status.busy": "2024-03-13T13:52:54.378552Z",
     "iopub.status.idle": "2024-03-13T13:52:54.385891Z",
     "shell.execute_reply": "2024-03-13T13:52:54.384896Z",
     "shell.execute_reply.started": "2024-03-13T13:52:54.378930Z"
    },
    "id": "PTJ7lWJ9u9ik"
   },
   "outputs": [],
   "source": [
    "def preproc2(df, cols_drop):\n",
    "    cols_drop = [i for i in cols_drop if i not in ['sample_ml_new', 'feature756']]\n",
    "    df = df.drop(cols_drop, axis=1)\n",
    "    X_train, X_test, y_train, y_test = train_test_split(\n",
    "    df.drop('target', axis=1),\n",
    "    df['target'],\n",
    "    test_size=0.2,\n",
    "    random_state=42,\n",
    "        shuffle=True,\n",
    "        stratify=df['target']\n",
    "    )\n",
    "\n",
    "    scaler = StandardScaler()\n",
    "    scaler.fit(X_train)\n",
    "    X_train = scaler.transform(X_train)\n",
    "    X_test = scaler.transform(X_test)\n",
    "\n",
    "    return X_train, X_test, y_train, y_test"
   ]
  },
  {
   "cell_type": "code",
   "execution_count": 15,
   "metadata": {
    "execution": {
     "iopub.execute_input": "2024-03-13T13:53:02.498865Z",
     "iopub.status.busy": "2024-03-13T13:53:02.498478Z",
     "iopub.status.idle": "2024-03-13T13:53:03.725808Z",
     "shell.execute_reply": "2024-03-13T13:53:03.725068Z",
     "shell.execute_reply.started": "2024-03-13T13:53:02.498833Z"
    },
    "id": "y6gVK7uyu9il"
   },
   "outputs": [],
   "source": [
    "X_train1, X_test1, y_train1, y_test1 = preproc2(pd.concat([X, df['target']], axis=1),\n",
    "                                                cols_with_one_unique_num)"
   ]
  },
  {
   "cell_type": "markdown",
   "metadata": {
    "id": "swpSPAUqu9il"
   },
   "source": [
    "## simple_nn"
   ]
  },
  {
   "cell_type": "code",
   "execution_count": 16,
   "metadata": {
    "execution": {
     "iopub.execute_input": "2024-03-13T13:51:37.666254Z",
     "iopub.status.busy": "2024-03-13T13:51:37.665351Z",
     "iopub.status.idle": "2024-03-13T13:51:37.670962Z",
     "shell.execute_reply": "2024-03-13T13:51:37.669928Z",
     "shell.execute_reply.started": "2024-03-13T13:51:37.666217Z"
    },
    "id": "Y8YHEuxbu9il"
   },
   "outputs": [],
   "source": [
    "import torch.nn as nn\n",
    "import torch.nn.functional as F\n",
    "from torch.utils.data import Dataset, DataLoader, WeightedRandomSampler\n",
    "from tqdm import tqdm"
   ]
  },
  {
   "cell_type": "code",
   "execution_count": 22,
   "metadata": {
    "execution": {
     "iopub.execute_input": "2024-03-11T21:50:29.489766Z",
     "iopub.status.busy": "2024-03-11T21:50:29.488811Z",
     "iopub.status.idle": "2024-03-11T21:50:29.498331Z",
     "shell.execute_reply": "2024-03-11T21:50:29.497122Z",
     "shell.execute_reply.started": "2024-03-11T21:50:29.489732Z"
    },
    "id": "rIGtZ_4zu9il"
   },
   "outputs": [],
   "source": [
    "class BinaryClassificationDataset(Dataset):\n",
    "    def __init__(self, X, y):\n",
    "        self.X = torch.tensor(X, dtype=torch.float32)\n",
    "        self.y = torch.tensor(y.values, dtype=torch.long)\n",
    "\n",
    "    def __len__(self):\n",
    "        return len(self.y)\n",
    "\n",
    "    def __getitem__(self, index):\n",
    "        return self.X[index], self.y[index]"
   ]
  },
  {
   "cell_type": "code",
   "execution_count": 23,
   "metadata": {
    "execution": {
     "iopub.execute_input": "2024-03-13T14:12:28.535969Z",
     "iopub.status.busy": "2024-03-13T14:12:28.535499Z",
     "iopub.status.idle": "2024-03-13T14:12:28.542434Z",
     "shell.execute_reply": "2024-03-13T14:12:28.541474Z",
     "shell.execute_reply.started": "2024-03-13T14:12:28.535936Z"
    },
    "id": "NT0qu1p3u9im"
   },
   "outputs": [],
   "source": [
    "def make_weights_for_balanced_classes(y):\n",
    "    n_classes = torch.unique(y).size(0)\n",
    "    count = [0] * n_classes\n",
    "    for label in y:\n",
    "        count[label] += 1\n",
    "    weight_per_class = [0.] * n_classes\n",
    "    N = float(sum(count))\n",
    "    for i in range(n_classes):\n",
    "        weight_per_class[i] = N / float(count[i])\n",
    "    weight = [0] * len(y)\n",
    "    for idx, label in enumerate(y):\n",
    "        weight[idx] = weight_per_class[label]\n",
    "    return torch.DoubleTensor(weight)"
   ]
  },
  {
   "cell_type": "code",
   "execution_count": 24,
   "metadata": {
    "execution": {
     "iopub.execute_input": "2024-03-13T13:52:43.946592Z",
     "iopub.status.busy": "2024-03-13T13:52:43.946215Z",
     "iopub.status.idle": "2024-03-13T13:52:43.981675Z",
     "shell.execute_reply": "2024-03-13T13:52:43.980319Z",
     "shell.execute_reply.started": "2024-03-13T13:52:43.946561Z"
    },
    "id": "Lz3C_ql2u9is"
   },
   "outputs": [],
   "source": [
    "train_dataset = BinaryClassificationDataset(X_train1, y_train1)\n",
    "test_dataset = BinaryClassificationDataset(X_test1, y_test1)"
   ]
  },
  {
   "cell_type": "code",
   "execution_count": 18,
   "metadata": {
    "execution": {
     "iopub.execute_input": "2024-03-11T22:02:33.553296Z",
     "iopub.status.busy": "2024-03-11T22:02:33.552310Z",
     "iopub.status.idle": "2024-03-11T22:02:33.719950Z",
     "shell.execute_reply": "2024-03-11T22:02:33.718884Z",
     "shell.execute_reply.started": "2024-03-11T22:02:33.553262Z"
    },
    "id": "rl5SlI_4u9is"
   },
   "outputs": [],
   "source": [
    "from sklearn.utils.class_weight import compute_class_weight\n",
    "class_weights = compute_class_weight(class_weight='balanced', classes=np.unique(y_train1), y=np.array(df['target']))"
   ]
  },
  {
   "cell_type": "code",
   "execution_count": 25,
   "metadata": {
    "colab": {
     "base_uri": "https://localhost:8080/"
    },
    "execution": {
     "iopub.execute_input": "2024-03-13T14:13:01.279137Z",
     "iopub.status.busy": "2024-03-13T14:13:01.278264Z",
     "iopub.status.idle": "2024-03-13T14:13:04.630119Z",
     "shell.execute_reply": "2024-03-13T14:13:04.629081Z",
     "shell.execute_reply.started": "2024-03-13T14:13:01.279103Z"
    },
    "id": "54sY99Qxu9it",
    "outputId": "1d437c23-c2ff-4baa-99ab-e7c44a94363e"
   },
   "outputs": [
    {
     "name": "stderr",
     "output_type": "stream",
     "text": [
      "<ipython-input-25-e8c87d99df34>:1: UserWarning: To copy construct from a tensor, it is recommended to use sourceTensor.clone().detach() or sourceTensor.clone().detach().requires_grad_(True), rather than torch.tensor(sourceTensor).\n",
      "  weights = make_weights_for_balanced_classes(torch.tensor(train_dataset.y))\n"
     ]
    }
   ],
   "source": [
    "weights = make_weights_for_balanced_classes(torch.tensor(train_dataset.y))\n",
    "sampler = WeightedRandomSampler(weights, len(weights))"
   ]
  },
  {
   "cell_type": "code",
   "execution_count": null,
   "metadata": {
    "execution": {
     "iopub.execute_input": "2024-03-11T21:50:49.429117Z",
     "iopub.status.busy": "2024-03-11T21:50:49.428719Z",
     "iopub.status.idle": "2024-03-11T21:50:49.436017Z",
     "shell.execute_reply": "2024-03-11T21:50:49.434942Z",
     "shell.execute_reply.started": "2024-03-11T21:50:49.429082Z"
    },
    "id": "L2VZ4U3Tu9it"
   },
   "outputs": [],
   "source": [
    "train_lodetach_ader = DataLoader(train_dataset, batch_size=64, sampler=sampler)\n",
    "test_loader = DataLoader(test_dataset, batch_size=64, shuffle=False)"
   ]
  },
  {
   "cell_type": "code",
   "execution_count": null,
   "metadata": {
    "execution": {
     "iopub.execute_input": "2024-03-11T21:56:26.117841Z",
     "iopub.status.busy": "2024-03-11T21:56:26.117469Z",
     "iopub.status.idle": "2024-03-11T21:56:26.128310Z",
     "shell.execute_reply": "2024-03-11T21:56:26.127198Z",
     "shell.execute_reply.started": "2024-03-11T21:56:26.117806Z"
    },
    "id": "rlSgzJBNu9it"
   },
   "outputs": [],
   "source": [
    "class SimpleNN(nn.Module):\n",
    "    def __init__(self, in_size=46, hid_size=512, out_size=2):\n",
    "        super().__init__()\n",
    "        self.in_size = in_size\n",
    "        self.hid_size = hid_size\n",
    "        self.out_size = out_size\n",
    "        self.fc1 = nn.Linear(in_size, hid_size)\n",
    "        self.bn1 = nn.BatchNorm1d(hid_size)\n",
    "        self.fc2 = nn.Linear(hid_size, hid_size//2)\n",
    "        self.bn2 = nn.BatchNorm1d(hid_size//2)\n",
    "        self.fc3 = nn.Linear(hid_size//2, hid_size//4)\n",
    "        self.bn3 = nn.BatchNorm1d(hid_size//4)\n",
    "        self.clf = nn.Linear(hid_size//4, out_size)\n",
    "        self.relu = nn.LeakyReLU()\n",
    "        self.dropout = nn.Dropout(0.3)\n",
    "\n",
    "    def forward(self, inp):\n",
    "        out = self.relu(self.bn1(self.fc1(inp)))\n",
    "#         out = self.dropout(out)\n",
    "        out = self.relu(self.bn2(self.fc2(out)))\n",
    "        embs = self.relu(self.bn3(self.fc3(out)))\n",
    "        clf_out = self.clf(embs)\n",
    "        return clf_out, embs"
   ]
  },
  {
   "cell_type": "code",
   "execution_count": null,
   "metadata": {
    "execution": {
     "iopub.execute_input": "2024-03-11T22:06:04.386921Z",
     "iopub.status.busy": "2024-03-11T22:06:04.386517Z",
     "iopub.status.idle": "2024-03-11T22:06:04.398743Z",
     "shell.execute_reply": "2024-03-11T22:06:04.397873Z",
     "shell.execute_reply.started": "2024-03-11T22:06:04.386884Z"
    },
    "id": "XtX1rzqyu9it"
   },
   "outputs": [],
   "source": [
    "simple_nn = SimpleNN(in_size=42).to('cuda')\n",
    "optimizer = torch.optim.AdamW(simple_nn.parameters())\n",
    "criterion = nn.CrossEntropyLoss(weight=torch.tensor(class_weights, dtype=torch.float32)).to('cuda')\n",
    "scheduler = torch.optim.lr_scheduler.ExponentialLR(optimizer, gamma=0.9)\n",
    "\n",
    "epochs = 20 # 16 лучшее вроде бы"
   ]
  },
  {
   "cell_type": "code",
   "execution_count": null,
   "metadata": {
    "execution": {
     "iopub.execute_input": "2024-03-11T22:06:05.157908Z",
     "iopub.status.busy": "2024-03-11T22:06:05.156814Z",
     "iopub.status.idle": "2024-03-11T22:13:36.764266Z",
     "shell.execute_reply": "2024-03-11T22:13:36.763219Z",
     "shell.execute_reply.started": "2024-03-11T22:06:05.157850Z"
    },
    "id": "MdSCGbVlu9it",
    "outputId": "9ec18ea0-4738-4a08-8391-6852ed223459"
   },
   "outputs": [
    {
     "name": "stderr",
     "output_type": "stream",
     "text": [
      "  5%|▌         | 1/20 [00:22<07:06, 22.46s/it]"
     ]
    },
    {
     "name": "stdout",
     "output_type": "stream",
     "text": [
      "Epoch [1/20]. Loss: 0.1436 Val Accuracy: 0.0452 Val F1-Weighted: 0.0215 Val Precision Weighted: 0.9570 Val Recall Weighted: 0.0452 Val RocAuc: 0.7014\n"
     ]
    },
    {
     "name": "stderr",
     "output_type": "stream",
     "text": [
      " 10%|█         | 2/20 [00:45<06:46, 22.60s/it]"
     ]
    },
    {
     "name": "stdout",
     "output_type": "stream",
     "text": [
      "Epoch [2/20]. Loss: 0.1240 Val Accuracy: 0.2120 Val F1-Weighted: 0.3038 Val Precision Weighted: 0.9527 Val Recall Weighted: 0.2120 Val RocAuc: 0.6753\n"
     ]
    },
    {
     "name": "stderr",
     "output_type": "stream",
     "text": [
      " 15%|█▌        | 3/20 [01:07<06:23, 22.53s/it]"
     ]
    },
    {
     "name": "stdout",
     "output_type": "stream",
     "text": [
      "Epoch [3/20]. Loss: 0.1012 Val Accuracy: 0.3496 Val F1-Weighted: 0.4809 Val Precision Weighted: 0.9492 Val Recall Weighted: 0.3496 Val RocAuc: 0.6641\n"
     ]
    },
    {
     "name": "stderr",
     "output_type": "stream",
     "text": [
      " 20%|██        | 4/20 [01:30<06:00, 22.53s/it]"
     ]
    },
    {
     "name": "stdout",
     "output_type": "stream",
     "text": [
      "Epoch [4/20]. Loss: 0.0856 Val Accuracy: 0.4154 Val F1-Weighted: 0.5528 Val Precision Weighted: 0.9471 Val Recall Weighted: 0.4154 Val RocAuc: 0.6557\n"
     ]
    },
    {
     "name": "stderr",
     "output_type": "stream",
     "text": [
      " 25%|██▌       | 5/20 [01:52<05:37, 22.52s/it]"
     ]
    },
    {
     "name": "stdout",
     "output_type": "stream",
     "text": [
      "Epoch [5/20]. Loss: 0.0746 Val Accuracy: 0.5266 Val F1-Weighted: 0.6587 Val Precision Weighted: 0.9455 Val Recall Weighted: 0.5266 Val RocAuc: 0.6524\n"
     ]
    },
    {
     "name": "stderr",
     "output_type": "stream",
     "text": [
      " 30%|███       | 6/20 [02:15<05:16, 22.59s/it]"
     ]
    },
    {
     "name": "stdout",
     "output_type": "stream",
     "text": [
      "Epoch [6/20]. Loss: 0.0670 Val Accuracy: 0.5330 Val F1-Weighted: 0.6643 Val Precision Weighted: 0.9447 Val Recall Weighted: 0.5330 Val RocAuc: 0.6449\n"
     ]
    },
    {
     "name": "stderr",
     "output_type": "stream",
     "text": [
      " 35%|███▌      | 7/20 [02:38<04:54, 22.64s/it]"
     ]
    },
    {
     "name": "stdout",
     "output_type": "stream",
     "text": [
      "Epoch [7/20]. Loss: 0.0616 Val Accuracy: 0.6090 Val F1-Weighted: 0.7271 Val Precision Weighted: 0.9441 Val Recall Weighted: 0.6090 Val RocAuc: 0.6497\n"
     ]
    },
    {
     "name": "stderr",
     "output_type": "stream",
     "text": [
      " 40%|████      | 8/20 [03:00<04:30, 22.52s/it]"
     ]
    },
    {
     "name": "stdout",
     "output_type": "stream",
     "text": [
      "Epoch [8/20]. Loss: 0.0561 Val Accuracy: 0.6058 Val F1-Weighted: 0.7246 Val Precision Weighted: 0.9439 Val Recall Weighted: 0.6058 Val RocAuc: 0.6499\n"
     ]
    },
    {
     "name": "stderr",
     "output_type": "stream",
     "text": [
      " 45%|████▌     | 9/20 [03:22<04:07, 22.50s/it]"
     ]
    },
    {
     "name": "stdout",
     "output_type": "stream",
     "text": [
      "Epoch [9/20]. Loss: 0.0516 Val Accuracy: 0.6421 Val F1-Weighted: 0.7524 Val Precision Weighted: 0.9434 Val Recall Weighted: 0.6421 Val RocAuc: 0.6480\n"
     ]
    },
    {
     "name": "stderr",
     "output_type": "stream",
     "text": [
      " 50%|█████     | 10/20 [03:45<03:45, 22.54s/it]"
     ]
    },
    {
     "name": "stdout",
     "output_type": "stream",
     "text": [
      "Epoch [10/20]. Loss: 0.0479 Val Accuracy: 0.6574 Val F1-Weighted: 0.7638 Val Precision Weighted: 0.9428 Val Recall Weighted: 0.6574 Val RocAuc: 0.6468\n"
     ]
    },
    {
     "name": "stderr",
     "output_type": "stream",
     "text": [
      " 55%|█████▌    | 11/20 [04:07<03:22, 22.51s/it]"
     ]
    },
    {
     "name": "stdout",
     "output_type": "stream",
     "text": [
      "Epoch [11/20]. Loss: 0.0451 Val Accuracy: 0.6731 Val F1-Weighted: 0.7752 Val Precision Weighted: 0.9421 Val Recall Weighted: 0.6731 Val RocAuc: 0.6410\n"
     ]
    },
    {
     "name": "stderr",
     "output_type": "stream",
     "text": [
      " 60%|██████    | 12/20 [04:30<03:00, 22.56s/it]"
     ]
    },
    {
     "name": "stdout",
     "output_type": "stream",
     "text": [
      "Epoch [12/20]. Loss: 0.0418 Val Accuracy: 0.7179 Val F1-Weighted: 0.8066 Val Precision Weighted: 0.9418 Val Recall Weighted: 0.7179 Val RocAuc: 0.6462\n"
     ]
    },
    {
     "name": "stderr",
     "output_type": "stream",
     "text": [
      " 65%|██████▌   | 13/20 [04:53<02:37, 22.56s/it]"
     ]
    },
    {
     "name": "stdout",
     "output_type": "stream",
     "text": [
      "Epoch [13/20]. Loss: 0.0392 Val Accuracy: 0.7303 Val F1-Weighted: 0.8150 Val Precision Weighted: 0.9412 Val Recall Weighted: 0.7303 Val RocAuc: 0.6433\n"
     ]
    },
    {
     "name": "stderr",
     "output_type": "stream",
     "text": [
      " 70%|███████   | 14/20 [05:15<02:15, 22.59s/it]"
     ]
    },
    {
     "name": "stdout",
     "output_type": "stream",
     "text": [
      "Epoch [14/20]. Loss: 0.0371 Val Accuracy: 0.7192 Val F1-Weighted: 0.8075 Val Precision Weighted: 0.9406 Val Recall Weighted: 0.7192 Val RocAuc: 0.6364\n"
     ]
    },
    {
     "name": "stderr",
     "output_type": "stream",
     "text": [
      " 75%|███████▌  | 15/20 [05:38<01:52, 22.56s/it]"
     ]
    },
    {
     "name": "stdout",
     "output_type": "stream",
     "text": [
      "Epoch [15/20]. Loss: 0.0353 Val Accuracy: 0.7365 Val F1-Weighted: 0.8191 Val Precision Weighted: 0.9407 Val Recall Weighted: 0.7365 Val RocAuc: 0.6411\n"
     ]
    },
    {
     "name": "stderr",
     "output_type": "stream",
     "text": [
      " 80%|████████  | 16/20 [06:00<01:30, 22.57s/it]"
     ]
    },
    {
     "name": "stdout",
     "output_type": "stream",
     "text": [
      "Epoch [16/20]. Loss: 0.0325 Val Accuracy: 0.7419 Val F1-Weighted: 0.8227 Val Precision Weighted: 0.9404 Val Recall Weighted: 0.7419 Val RocAuc: 0.6386\n"
     ]
    },
    {
     "name": "stderr",
     "output_type": "stream",
     "text": [
      " 85%|████████▌ | 17/20 [06:23<01:07, 22.57s/it]"
     ]
    },
    {
     "name": "stdout",
     "output_type": "stream",
     "text": [
      "Epoch [17/20]. Loss: 0.0312 Val Accuracy: 0.7580 Val F1-Weighted: 0.8332 Val Precision Weighted: 0.9403 Val Recall Weighted: 0.7580 Val RocAuc: 0.6392\n"
     ]
    },
    {
     "name": "stderr",
     "output_type": "stream",
     "text": [
      " 90%|█████████ | 18/20 [06:46<00:45, 22.59s/it]"
     ]
    },
    {
     "name": "stdout",
     "output_type": "stream",
     "text": [
      "Epoch [18/20]. Loss: 0.0294 Val Accuracy: 0.7757 Val F1-Weighted: 0.8445 Val Precision Weighted: 0.9398 Val Recall Weighted: 0.7757 Val RocAuc: 0.6380\n"
     ]
    },
    {
     "name": "stderr",
     "output_type": "stream",
     "text": [
      " 95%|█████████▌| 19/20 [07:08<00:22, 22.61s/it]"
     ]
    },
    {
     "name": "stdout",
     "output_type": "stream",
     "text": [
      "Epoch [19/20]. Loss: 0.0284 Val Accuracy: 0.7722 Val F1-Weighted: 0.8423 Val Precision Weighted: 0.9402 Val Recall Weighted: 0.7722 Val RocAuc: 0.6377\n"
     ]
    },
    {
     "name": "stderr",
     "output_type": "stream",
     "text": [
      "100%|██████████| 20/20 [07:31<00:00, 22.58s/it]"
     ]
    },
    {
     "name": "stdout",
     "output_type": "stream",
     "text": [
      "Epoch [20/20]. Loss: 0.0275 Val Accuracy: 0.8048 Val F1-Weighted: 0.8626 Val Precision Weighted: 0.9393 Val Recall Weighted: 0.8048 Val RocAuc: 0.6382\n"
     ]
    },
    {
     "name": "stderr",
     "output_type": "stream",
     "text": [
      "\n"
     ]
    }
   ],
   "source": [
    "history = {\n",
    "    'train_loss': [],\n",
    "    'val_accuracy': [],\n",
    "    'val_f1_weighted': [],\n",
    "    'val_f1_micro': [],\n",
    "    'val_precision_weighted': [],\n",
    "    'val_recall_weighted': [],\n",
    "    'val_roc_auc': []\n",
    "}\n",
    "\n",
    "for epoch in tqdm(range(epochs)):\n",
    "        simple_nn.train()\n",
    "        running_loss = 0.0\n",
    "\n",
    "        for batch in train_loader:\n",
    "            inputs, labels = batch[0].to('cuda'), batch[1].to('cuda')\n",
    "\n",
    "            optimizer.zero_grad()\n",
    "            outputs, _ = simple_nn(inputs)\n",
    "            loss = criterion(outputs, labels)\n",
    "            running_loss += loss.item()\n",
    "\n",
    "            loss.backward()\n",
    "            optimizer.step()\n",
    "        scheduler.step()\n",
    "        avg_loss = running_loss / len(train_loader)\n",
    "        history['train_loss'].append(avg_loss)\n",
    "\n",
    "        true_labels = []\n",
    "        predictions = []\n",
    "        preds_for_roc_auc = []\n",
    "\n",
    "        simple_nn.eval()\n",
    "        correct = 0\n",
    "        total = 0\n",
    "        with torch.no_grad():\n",
    "            for batch in test_loader:\n",
    "                inputs, labels = batch[0].to('cuda'), batch[1].to('cuda')\n",
    "                outputs, _ = simple_nn(inputs)\n",
    "                predicted = torch.argmax(outputs, dim=1)\n",
    "                true_labels.extend(labels.cpu().numpy())\n",
    "                predictions.extend(predicted.cpu().numpy())\n",
    "\n",
    "                probabilities = F.softmax(outputs, dim=1).cpu().numpy()\n",
    "                preds_for_roc_auc.extend(probabilities[:, 1])\n",
    "\n",
    "        val_accuracy = (np.array(predictions) == np.array(true_labels)).mean()\n",
    "        val_f1_weighted = f1_score(true_labels, predictions, average='weighted')\n",
    "        val_f1_micro = f1_score(true_labels, predictions, average='micro')\n",
    "        val_precision_weighted = precision_score(true_labels, predictions, average='weighted')\n",
    "        val_recall_weighted = recall_score(true_labels, predictions, average='weighted')\n",
    "        val_roc_auc = roc_auc_score(true_labels, preds_for_roc_auc)\n",
    "\n",
    "        history['train_loss'].append(avg_loss)\n",
    "        history['val_accuracy'].append(val_accuracy)\n",
    "        history['val_f1_weighted'].append(val_f1_weighted)\n",
    "        history['val_f1_micro'].append(val_f1_micro)\n",
    "        history['val_precision_weighted'].append(val_precision_weighted)\n",
    "        history['val_recall_weighted'].append(val_recall_weighted)\n",
    "        history['val_roc_auc'].append(val_roc_auc)\n",
    "\n",
    "        print(f'Epoch [{epoch+1}/{epochs}]. Loss: {avg_loss:.4f}',\n",
    "              f'Val Accuracy: {val_accuracy:.4f}',\n",
    "              f'Val F1-Weighted: {val_f1_weighted:.4f}',\n",
    "              f'Val Precision Weighted: {val_precision_weighted:.4f}',\n",
    "              f'Val Recall Weighted: {val_recall_weighted:.4f}',\n",
    "              f'Val RocAuc: {val_roc_auc:.4f}')"
   ]
  },
  {
   "cell_type": "markdown",
   "metadata": {
    "id": "RZkykm4z0exZ"
   },
   "source": [
    "# Autoencoder"
   ]
  },
  {
   "cell_type": "code",
   "execution_count": 26,
   "metadata": {
    "execution": {
     "iopub.execute_input": "2024-03-13T13:52:19.551509Z",
     "iopub.status.busy": "2024-03-13T13:52:19.550819Z",
     "iopub.status.idle": "2024-03-13T13:52:19.557886Z",
     "shell.execute_reply": "2024-03-13T13:52:19.556984Z",
     "shell.execute_reply.started": "2024-03-13T13:52:19.551467Z"
    },
    "id": "ny-YFazou9iu"
   },
   "outputs": [],
   "source": [
    "class TabDataset(Dataset):\n",
    "    def __init__(self, X, y=None, train_mode=True):\n",
    "        self.x = X\n",
    "        self.y = y\n",
    "        self.train_mode = train_mode\n",
    "\n",
    "\n",
    "    def __getitem__(self, idx):\n",
    "        if self.train_mode:\n",
    "            return torch.tensor(self.x[idx], dtype=torch.float32), torch.tensor(self.y[idx], dtype=torch.int32)\n",
    "        else:\n",
    "            return torch.tensor(self.x[idx], dtype=torch.float32)\n",
    "\n",
    "    def __len__(self):\n",
    "        return len(self.x)"
   ]
  },
  {
   "cell_type": "code",
   "execution_count": 27,
   "metadata": {
    "execution": {
     "iopub.execute_input": "2024-03-13T14:13:13.926813Z",
     "iopub.status.busy": "2024-03-13T14:13:13.926423Z",
     "iopub.status.idle": "2024-03-13T14:13:13.932389Z",
     "shell.execute_reply": "2024-03-13T14:13:13.931434Z",
     "shell.execute_reply.started": "2024-03-13T14:13:13.926781Z"
    },
    "id": "4wqwOJUUu9iu"
   },
   "outputs": [],
   "source": [
    "train_dataset = TabDataset(X_train1, y_train1.values)\n",
    "val_dataset = TabDataset(X_test1, y_test1.values)\n",
    "train_loader = DataLoader(train_dataset, batch_size=64, sampler=sampler)\n",
    "val_loader = DataLoader(val_dataset, batch_size=64, shuffle=False)"
   ]
  },
  {
   "cell_type": "code",
   "execution_count": 28,
   "metadata": {
    "execution": {
     "iopub.execute_input": "2024-03-13T14:15:21.938297Z",
     "iopub.status.busy": "2024-03-13T14:15:21.937912Z",
     "iopub.status.idle": "2024-03-13T14:15:21.949814Z",
     "shell.execute_reply": "2024-03-13T14:15:21.948630Z",
     "shell.execute_reply.started": "2024-03-13T14:15:21.938267Z"
    },
    "id": "pgWro3FOu9iu"
   },
   "outputs": [],
   "source": [
    "class AutoencoderSkipConnection(nn.Module):\n",
    "    def __init__(self, input_size, hidden_size):\n",
    "        super(AutoencoderSkipConnection, self).__init__()\n",
    "\n",
    "        # Encoder\n",
    "        self.encoder = nn.Sequential(\n",
    "            nn.Linear(input_size, 128),\n",
    "            nn.ReLU(),\n",
    "            nn.BatchNorm1d(128),\n",
    "            nn.Linear(128, 64),\n",
    "            nn.ReLU(),\n",
    "            nn.BatchNorm1d(64),\n",
    "            nn.Linear(64, hidden_size),\n",
    "            nn.ReLU(),\n",
    "            nn.BatchNorm1d(hidden_size)\n",
    "        )\n",
    "\n",
    "        # Decoder\n",
    "        self.decoder = nn.Sequential(\n",
    "            nn.Linear(hidden_size, 64),\n",
    "            nn.ReLU(),\n",
    "            nn.BatchNorm1d(64),\n",
    "            nn.Linear(64, 128),\n",
    "            nn.ReLU(),\n",
    "            nn.BatchNorm1d(128),\n",
    "            nn.Linear(128, input_size),\n",
    "        )\n",
    "\n",
    "        # Skip connections\n",
    "        self.skip_connections = nn.ModuleList()\n",
    "        for i in range(len(self.encoder) // 2):  # Добавляем skip connections для половины слоев кодировщика\n",
    "            self.skip_connections.append(nn.Linear(hidden_size, hidden_size))\n",
    "\n",
    "        # Xavier (Glorot) initialization\n",
    "        for module in self.modules():\n",
    "            if isinstance(module, nn.Linear):\n",
    "                nn.init.xavier_normal_(module.weight)\n",
    "\n",
    "    def forward(self, x):\n",
    "        encoded = x\n",
    "        skip_connections = []\n",
    "\n",
    "        # Encoder\n",
    "        for layer in self.encoder:\n",
    "            encoded = layer(encoded)\n",
    "            if isinstance(layer, nn.Linear):\n",
    "                skip_connections.append(encoded)\n",
    "\n",
    "        # Decoder\n",
    "        for i, layer in enumerate(self.decoder):\n",
    "            if isinstance(layer, nn.Linear):\n",
    "#                 encoded = encoded + skip_connections[2 - i // 3]\n",
    "                encoded = layer(encoded)\n",
    "\n",
    "        return encoded"
   ]
  },
  {
   "cell_type": "markdown",
   "metadata": {
    "id": "9iBnfaOU1ugG"
   },
   "source": [
    "обучение автоенкодера и поиск аномалий\n"
   ]
  },
  {
   "cell_type": "code",
   "execution_count": null,
   "metadata": {
    "execution": {
     "iopub.execute_input": "2024-03-13T14:15:32.185234Z",
     "iopub.status.busy": "2024-03-13T14:15:32.184352Z",
     "iopub.status.idle": "2024-03-13T14:25:22.184551Z",
     "shell.execute_reply": "2024-03-13T14:25:22.183587Z",
     "shell.execute_reply.started": "2024-03-13T14:15:32.185196Z"
    },
    "id": "gMD-RD5Xu9iu"
   },
   "outputs": [],
   "source": [
    "import torch\n",
    "import torch.nn as nn\n",
    "import torch.optim as optim\n",
    "from torch.utils.data import DataLoader, TensorDataset\n",
    "from torchvision import datasets, transforms\n",
    "from tqdm import tqdm_notebook\n",
    "\n",
    "\n",
    "device = torch.device(\"cuda\")\n",
    "model = AutoencoderSkipConnection(70, 16).to(device)\n",
    "criterion = nn.MSELoss()\n",
    "optimizer = optim.Adam(model.parameters(), lr=3e-4)\n",
    "scheduler = torch.optim.lr_scheduler.ExponentialLR(optimizer, gamma=0.9)\n",
    "num_epochs = 20\n",
    "\n",
    "#wandb.init(project=\"purple-hack\")\n",
    "\n",
    "for epoch in tqdm(range(num_epochs)):\n",
    "    model.train()\n",
    "    total_train_loss = 0.0\n",
    "    train_batches = 0\n",
    "\n",
    "    for batch_idx, data in enumerate(train_loader):\n",
    "        x, _ = data[0].to(device), data[1].to(device)\n",
    "        optimizer.zero_grad()\n",
    "        outputs = model(x)\n",
    "        loss = criterion(outputs, x)\n",
    "        loss.backward()\n",
    "        optimizer.step()\n",
    "\n",
    "        total_train_loss += loss.item()\n",
    "        train_batches += 1\n",
    "\n",
    "    average_train_loss = total_train_loss / train_batches\n",
    "    print(f'Train Epoch [{epoch+1}/{num_epochs}], Average Loss: {average_train_loss:.4f}')\n",
    "\n",
    "    #wandb.log({\"Train Loss\": average_train_loss}, step=epoch)\n",
    "\n",
    "    model.eval()\n",
    "    total_val_loss = 0.0\n",
    "    val_batches = 0\n",
    "\n",
    "    for batch_idx, data in enumerate(val_loader):\n",
    "        x, _ = data[0].to(device), data[1].to(device)\n",
    "        optimizer.zero_grad()\n",
    "        outputs = model(x)\n",
    "        loss = criterion(outputs, x)\n",
    "        loss.backward()\n",
    "        optimizer.step()\n",
    "\n",
    "        total_val_loss += loss.item()\n",
    "        val_batches += 1\n",
    "\n",
    "    average_val_loss = total_val_loss / val_batches\n",
    "    print(f'Val Epoch [{epoch+1}/{num_epochs}], Average Loss: {average_val_loss:.4f}')\n",
    "\n",
    "    #wandb.log({\"Val Loss\": average_val_loss}, step=epoch)\n",
    "    print('-' * 20)"
   ]
  },
  {
   "cell_type": "code",
   "execution_count": 36,
   "metadata": {
    "colab": {
     "base_uri": "https://localhost:8080/",
     "height": 205,
     "referenced_widgets": [
      "b08beaca05b24ce988ea81eb104a1343",
      "251ce0f053774db2914397302a50328b",
      "491ff40c8ee84039aef5882ad7db43a7",
      "8cc5cf01803644eeafabb477c3023ba0",
      "ac46cce1808343479f6f46da4222a865",
      "f69d0bb863eb4093949a93b2578b5b48",
      "9e89f5c1125a4ffd90bae2b468104683",
      "09fd5fb61171438586ad6e2a2d243497",
      "6d44b60366ba41c6b5feca2ac041b5bd",
      "0c28b467fd114c8a92bbaa4b4861b797",
      "dcba10bd9c87425aa2b781e12f5f2d71",
      "029191a57fe34c0ca5b2651dae028ab2",
      "e9a60c3759a04bac90233fb33c58f47e",
      "83b5b3966d5b43a1ac2c3d33ad94bad3",
      "f4309497df6945828863b1a87e286e80",
      "ac002807471f4d9f99f4278ae4f61a2c",
      "3fd75a69803d4aa6bc6b83ed32c1096d",
      "bd7483708fde44c8b30bf89163026300",
      "313e60ae9f384387bc70a362ad52cac0",
      "d0936369286b4ae489211b6644c157b8",
      "6a31753cbf984aaaaeac049af7c97266",
      "02b85fe799634ee18a5f2375d6002d50"
     ]
    },
    "execution": {
     "iopub.execute_input": "2024-03-13T14:41:26.795894Z",
     "iopub.status.busy": "2024-03-13T14:41:26.795255Z"
    },
    "id": "cPE_mAzsu9iv",
    "outputId": "cd87d565-2cca-4c9c-a7f1-50e48e1c3650"
   },
   "outputs": [
    {
     "name": "stderr",
     "output_type": "stream",
     "text": [
      "<ipython-input-36-818b36a40db1>:5: TqdmDeprecationWarning: This function will be removed in tqdm==5.0.0\n",
      "Please use `tqdm.notebook.tqdm` instead of `tqdm.tqdm_notebook`\n",
      "  for el in tqdm_notebook(train_loader):\n"
     ]
    },
    {
     "data": {
      "application/vnd.jupyter.widget-view+json": {
       "model_id": "b08beaca05b24ce988ea81eb104a1343",
       "version_major": 2,
       "version_minor": 0
      },
      "text/plain": [
       "  0%|          | 0/6496 [00:00<?, ?it/s]"
      ]
     },
     "metadata": {},
     "output_type": "display_data"
    },
    {
     "name": "stderr",
     "output_type": "stream",
     "text": [
      "<ipython-input-36-818b36a40db1>:10: TqdmDeprecationWarning: This function will be removed in tqdm==5.0.0\n",
      "Please use `tqdm.notebook.tqdm` instead of `tqdm.tqdm_notebook`\n",
      "  for el in tqdm_notebook(val_loader):\n"
     ]
    },
    {
     "data": {
      "application/vnd.jupyter.widget-view+json": {
       "model_id": "029191a57fe34c0ca5b2651dae028ab2",
       "version_major": 2,
       "version_minor": 0
      },
      "text/plain": [
       "  0%|          | 0/1624 [00:00<?, ?it/s]"
      ]
     },
     "metadata": {},
     "output_type": "display_data"
    }
   ],
   "source": [
    "X_train = np.array([])\n",
    "y_train = np.array([])\n",
    "X_test = np.array([])\n",
    "y_test = np.array([])\n",
    "for el in tqdm_notebook(train_loader):\n",
    "    data, y = el\n",
    "    data = data.to(device)\n",
    "    X_train = np.append(X_train, model(data).detach().cpu().numpy())\n",
    "    y_train = np.append(y_train, y.numpy())\n",
    "for el in tqdm_notebook(val_loader):\n",
    "    data, y = el\n",
    "    data = data.to(device)\n",
    "    X_test = np.append(X_test, model(data).detach().cpu().numpy())\n",
    "    y_test = np.append(y_test, y.numpy())"
   ]
  },
  {
   "cell_type": "code",
   "execution_count": 39,
   "metadata": {
    "id": "HXuwGxQ32sdi"
   },
   "outputs": [],
   "source": [
    "X_train_new = X_train.reshape(len(train_dataset), -1)\n",
    "X_test_new = X_test.reshape(len(val_dataset), -1)"
   ]
  },
  {
   "cell_type": "code",
   "execution_count": 42,
   "metadata": {
    "colab": {
     "base_uri": "https://localhost:8080/"
    },
    "id": "tFxLzCn_1VeG",
    "outputId": "4bb26367-8739-4008-da06-72625e53677e"
   },
   "outputs": [
    {
     "name": "stdout",
     "output_type": "stream",
     "text": [
      "Аномалии обнаружены на индексах: [     1     31     35 ... 415683 415684 415686]\n"
     ]
    }
   ],
   "source": [
    "# Восстанавливаем данные\n",
    "# reconstructed_data = model(data_tensor).detach().numpy()\n",
    "\n",
    "# Сравниваем исходные данные с восстановленными\n",
    "reconstruction_error = np.mean(np.abs(X_train1 - X_train_new), axis=1)\n",
    "\n",
    "# Устанавливаем порог для обнаружения аномалий\n",
    "threshold = np.percentile(reconstruction_error, 90) # 95-й процентиль\n",
    "\n",
    "# Находим индексы аномалий\n",
    "anomaly_indices = np.where(reconstruction_error > threshold)[0]\n",
    "\n",
    "print(f\"Аномалии обнаружены на индексах: {anomaly_indices}\")"
   ]
  },
  {
   "cell_type": "code",
   "execution_count": 43,
   "metadata": {
    "id": "Ly09jhg71p6p"
   },
   "outputs": [],
   "source": [
    "X_train1 = X_train1[~np.isin(np.arange(len(X_train1)), anomaly_indices)]\n",
    "y_train1 = y_train1[~np.isin(np.arange(len(y_train1)), anomaly_indices)]\n"
   ]
  }
 ],
 "metadata": {
  "accelerator": "GPU",
  "colab": {
   "gpuType": "T4",
   "provenance": []
  },
  "kaggle": {
   "accelerator": "gpu",
   "dataSources": [
    {
     "datasetId": 4565998,
     "sourceId": 7798639,
     "sourceType": "datasetVersion"
    }
   ],
   "dockerImageVersionId": 30665,
   "isGpuEnabled": true,
   "isInternetEnabled": true,
   "language": "python",
   "sourceType": "notebook"
  },
  "kernelspec": {
   "display_name": "Python 3 (ipykernel)",
   "language": "python",
   "name": "python3"
  },
  "language_info": {
   "codemirror_mode": {
    "name": "ipython",
    "version": 3
   },
   "file_extension": ".py",
   "mimetype": "text/x-python",
   "name": "python",
   "nbconvert_exporter": "python",
   "pygments_lexer": "ipython3",
   "version": "3.10.12"
  },
  "widgets": {
   "application/vnd.jupyter.widget-state+json": {
    "029191a57fe34c0ca5b2651dae028ab2": {
     "model_module": "@jupyter-widgets/controls",
     "model_module_version": "1.5.0",
     "model_name": "HBoxModel",
     "state": {
      "_dom_classes": [],
      "_model_module": "@jupyter-widgets/controls",
      "_model_module_version": "1.5.0",
      "_model_name": "HBoxModel",
      "_view_count": null,
      "_view_module": "@jupyter-widgets/controls",
      "_view_module_version": "1.5.0",
      "_view_name": "HBoxView",
      "box_style": "",
      "children": [
       "IPY_MODEL_e9a60c3759a04bac90233fb33c58f47e",
       "IPY_MODEL_83b5b3966d5b43a1ac2c3d33ad94bad3",
       "IPY_MODEL_f4309497df6945828863b1a87e286e80"
      ],
      "layout": "IPY_MODEL_ac002807471f4d9f99f4278ae4f61a2c"
     }
    },
    "02b85fe799634ee18a5f2375d6002d50": {
     "model_module": "@jupyter-widgets/controls",
     "model_module_version": "1.5.0",
     "model_name": "DescriptionStyleModel",
     "state": {
      "_model_module": "@jupyter-widgets/controls",
      "_model_module_version": "1.5.0",
      "_model_name": "DescriptionStyleModel",
      "_view_count": null,
      "_view_module": "@jupyter-widgets/base",
      "_view_module_version": "1.2.0",
      "_view_name": "StyleView",
      "description_width": ""
     }
    },
    "09fd5fb61171438586ad6e2a2d243497": {
     "model_module": "@jupyter-widgets/base",
     "model_module_version": "1.2.0",
     "model_name": "LayoutModel",
     "state": {
      "_model_module": "@jupyter-widgets/base",
      "_model_module_version": "1.2.0",
      "_model_name": "LayoutModel",
      "_view_count": null,
      "_view_module": "@jupyter-widgets/base",
      "_view_module_version": "1.2.0",
      "_view_name": "LayoutView",
      "align_content": null,
      "align_items": null,
      "align_self": null,
      "border": null,
      "bottom": null,
      "display": null,
      "flex": null,
      "flex_flow": null,
      "grid_area": null,
      "grid_auto_columns": null,
      "grid_auto_flow": null,
      "grid_auto_rows": null,
      "grid_column": null,
      "grid_gap": null,
      "grid_row": null,
      "grid_template_areas": null,
      "grid_template_columns": null,
      "grid_template_rows": null,
      "height": null,
      "justify_content": null,
      "justify_items": null,
      "left": null,
      "margin": null,
      "max_height": null,
      "max_width": null,
      "min_height": null,
      "min_width": null,
      "object_fit": null,
      "object_position": null,
      "order": null,
      "overflow": null,
      "overflow_x": null,
      "overflow_y": null,
      "padding": null,
      "right": null,
      "top": null,
      "visibility": null,
      "width": null
     }
    },
    "0c28b467fd114c8a92bbaa4b4861b797": {
     "model_module": "@jupyter-widgets/base",
     "model_module_version": "1.2.0",
     "model_name": "LayoutModel",
     "state": {
      "_model_module": "@jupyter-widgets/base",
      "_model_module_version": "1.2.0",
      "_model_name": "LayoutModel",
      "_view_count": null,
      "_view_module": "@jupyter-widgets/base",
      "_view_module_version": "1.2.0",
      "_view_name": "LayoutView",
      "align_content": null,
      "align_items": null,
      "align_self": null,
      "border": null,
      "bottom": null,
      "display": null,
      "flex": null,
      "flex_flow": null,
      "grid_area": null,
      "grid_auto_columns": null,
      "grid_auto_flow": null,
      "grid_auto_rows": null,
      "grid_column": null,
      "grid_gap": null,
      "grid_row": null,
      "grid_template_areas": null,
      "grid_template_columns": null,
      "grid_template_rows": null,
      "height": null,
      "justify_content": null,
      "justify_items": null,
      "left": null,
      "margin": null,
      "max_height": null,
      "max_width": null,
      "min_height": null,
      "min_width": null,
      "object_fit": null,
      "object_position": null,
      "order": null,
      "overflow": null,
      "overflow_x": null,
      "overflow_y": null,
      "padding": null,
      "right": null,
      "top": null,
      "visibility": null,
      "width": null
     }
    },
    "251ce0f053774db2914397302a50328b": {
     "model_module": "@jupyter-widgets/controls",
     "model_module_version": "1.5.0",
     "model_name": "HTMLModel",
     "state": {
      "_dom_classes": [],
      "_model_module": "@jupyter-widgets/controls",
      "_model_module_version": "1.5.0",
      "_model_name": "HTMLModel",
      "_view_count": null,
      "_view_module": "@jupyter-widgets/controls",
      "_view_module_version": "1.5.0",
      "_view_name": "HTMLView",
      "description": "",
      "description_tooltip": null,
      "layout": "IPY_MODEL_f69d0bb863eb4093949a93b2578b5b48",
      "placeholder": "​",
      "style": "IPY_MODEL_9e89f5c1125a4ffd90bae2b468104683",
      "value": "100%"
     }
    },
    "313e60ae9f384387bc70a362ad52cac0": {
     "model_module": "@jupyter-widgets/base",
     "model_module_version": "1.2.0",
     "model_name": "LayoutModel",
     "state": {
      "_model_module": "@jupyter-widgets/base",
      "_model_module_version": "1.2.0",
      "_model_name": "LayoutModel",
      "_view_count": null,
      "_view_module": "@jupyter-widgets/base",
      "_view_module_version": "1.2.0",
      "_view_name": "LayoutView",
      "align_content": null,
      "align_items": null,
      "align_self": null,
      "border": null,
      "bottom": null,
      "display": null,
      "flex": null,
      "flex_flow": null,
      "grid_area": null,
      "grid_auto_columns": null,
      "grid_auto_flow": null,
      "grid_auto_rows": null,
      "grid_column": null,
      "grid_gap": null,
      "grid_row": null,
      "grid_template_areas": null,
      "grid_template_columns": null,
      "grid_template_rows": null,
      "height": null,
      "justify_content": null,
      "justify_items": null,
      "left": null,
      "margin": null,
      "max_height": null,
      "max_width": null,
      "min_height": null,
      "min_width": null,
      "object_fit": null,
      "object_position": null,
      "order": null,
      "overflow": null,
      "overflow_x": null,
      "overflow_y": null,
      "padding": null,
      "right": null,
      "top": null,
      "visibility": null,
      "width": null
     }
    },
    "3fd75a69803d4aa6bc6b83ed32c1096d": {
     "model_module": "@jupyter-widgets/base",
     "model_module_version": "1.2.0",
     "model_name": "LayoutModel",
     "state": {
      "_model_module": "@jupyter-widgets/base",
      "_model_module_version": "1.2.0",
      "_model_name": "LayoutModel",
      "_view_count": null,
      "_view_module": "@jupyter-widgets/base",
      "_view_module_version": "1.2.0",
      "_view_name": "LayoutView",
      "align_content": null,
      "align_items": null,
      "align_self": null,
      "border": null,
      "bottom": null,
      "display": null,
      "flex": null,
      "flex_flow": null,
      "grid_area": null,
      "grid_auto_columns": null,
      "grid_auto_flow": null,
      "grid_auto_rows": null,
      "grid_column": null,
      "grid_gap": null,
      "grid_row": null,
      "grid_template_areas": null,
      "grid_template_columns": null,
      "grid_template_rows": null,
      "height": null,
      "justify_content": null,
      "justify_items": null,
      "left": null,
      "margin": null,
      "max_height": null,
      "max_width": null,
      "min_height": null,
      "min_width": null,
      "object_fit": null,
      "object_position": null,
      "order": null,
      "overflow": null,
      "overflow_x": null,
      "overflow_y": null,
      "padding": null,
      "right": null,
      "top": null,
      "visibility": null,
      "width": null
     }
    },
    "491ff40c8ee84039aef5882ad7db43a7": {
     "model_module": "@jupyter-widgets/controls",
     "model_module_version": "1.5.0",
     "model_name": "FloatProgressModel",
     "state": {
      "_dom_classes": [],
      "_model_module": "@jupyter-widgets/controls",
      "_model_module_version": "1.5.0",
      "_model_name": "FloatProgressModel",
      "_view_count": null,
      "_view_module": "@jupyter-widgets/controls",
      "_view_module_version": "1.5.0",
      "_view_name": "ProgressView",
      "bar_style": "success",
      "description": "",
      "description_tooltip": null,
      "layout": "IPY_MODEL_09fd5fb61171438586ad6e2a2d243497",
      "max": 6496,
      "min": 0,
      "orientation": "horizontal",
      "style": "IPY_MODEL_6d44b60366ba41c6b5feca2ac041b5bd",
      "value": 6496
     }
    },
    "6a31753cbf984aaaaeac049af7c97266": {
     "model_module": "@jupyter-widgets/base",
     "model_module_version": "1.2.0",
     "model_name": "LayoutModel",
     "state": {
      "_model_module": "@jupyter-widgets/base",
      "_model_module_version": "1.2.0",
      "_model_name": "LayoutModel",
      "_view_count": null,
      "_view_module": "@jupyter-widgets/base",
      "_view_module_version": "1.2.0",
      "_view_name": "LayoutView",
      "align_content": null,
      "align_items": null,
      "align_self": null,
      "border": null,
      "bottom": null,
      "display": null,
      "flex": null,
      "flex_flow": null,
      "grid_area": null,
      "grid_auto_columns": null,
      "grid_auto_flow": null,
      "grid_auto_rows": null,
      "grid_column": null,
      "grid_gap": null,
      "grid_row": null,
      "grid_template_areas": null,
      "grid_template_columns": null,
      "grid_template_rows": null,
      "height": null,
      "justify_content": null,
      "justify_items": null,
      "left": null,
      "margin": null,
      "max_height": null,
      "max_width": null,
      "min_height": null,
      "min_width": null,
      "object_fit": null,
      "object_position": null,
      "order": null,
      "overflow": null,
      "overflow_x": null,
      "overflow_y": null,
      "padding": null,
      "right": null,
      "top": null,
      "visibility": null,
      "width": null
     }
    },
    "6d44b60366ba41c6b5feca2ac041b5bd": {
     "model_module": "@jupyter-widgets/controls",
     "model_module_version": "1.5.0",
     "model_name": "ProgressStyleModel",
     "state": {
      "_model_module": "@jupyter-widgets/controls",
      "_model_module_version": "1.5.0",
      "_model_name": "ProgressStyleModel",
      "_view_count": null,
      "_view_module": "@jupyter-widgets/base",
      "_view_module_version": "1.2.0",
      "_view_name": "StyleView",
      "bar_color": null,
      "description_width": ""
     }
    },
    "83b5b3966d5b43a1ac2c3d33ad94bad3": {
     "model_module": "@jupyter-widgets/controls",
     "model_module_version": "1.5.0",
     "model_name": "FloatProgressModel",
     "state": {
      "_dom_classes": [],
      "_model_module": "@jupyter-widgets/controls",
      "_model_module_version": "1.5.0",
      "_model_name": "FloatProgressModel",
      "_view_count": null,
      "_view_module": "@jupyter-widgets/controls",
      "_view_module_version": "1.5.0",
      "_view_name": "ProgressView",
      "bar_style": "success",
      "description": "",
      "description_tooltip": null,
      "layout": "IPY_MODEL_313e60ae9f384387bc70a362ad52cac0",
      "max": 1624,
      "min": 0,
      "orientation": "horizontal",
      "style": "IPY_MODEL_d0936369286b4ae489211b6644c157b8",
      "value": 1624
     }
    },
    "8cc5cf01803644eeafabb477c3023ba0": {
     "model_module": "@jupyter-widgets/controls",
     "model_module_version": "1.5.0",
     "model_name": "HTMLModel",
     "state": {
      "_dom_classes": [],
      "_model_module": "@jupyter-widgets/controls",
      "_model_module_version": "1.5.0",
      "_model_name": "HTMLModel",
      "_view_count": null,
      "_view_module": "@jupyter-widgets/controls",
      "_view_module_version": "1.5.0",
      "_view_name": "HTMLView",
      "description": "",
      "description_tooltip": null,
      "layout": "IPY_MODEL_0c28b467fd114c8a92bbaa4b4861b797",
      "placeholder": "​",
      "style": "IPY_MODEL_dcba10bd9c87425aa2b781e12f5f2d71",
      "value": " 6496/6496 [05:03&lt;00:00, 11.54it/s]"
     }
    },
    "9e89f5c1125a4ffd90bae2b468104683": {
     "model_module": "@jupyter-widgets/controls",
     "model_module_version": "1.5.0",
     "model_name": "DescriptionStyleModel",
     "state": {
      "_model_module": "@jupyter-widgets/controls",
      "_model_module_version": "1.5.0",
      "_model_name": "DescriptionStyleModel",
      "_view_count": null,
      "_view_module": "@jupyter-widgets/base",
      "_view_module_version": "1.2.0",
      "_view_name": "StyleView",
      "description_width": ""
     }
    },
    "ac002807471f4d9f99f4278ae4f61a2c": {
     "model_module": "@jupyter-widgets/base",
     "model_module_version": "1.2.0",
     "model_name": "LayoutModel",
     "state": {
      "_model_module": "@jupyter-widgets/base",
      "_model_module_version": "1.2.0",
      "_model_name": "LayoutModel",
      "_view_count": null,
      "_view_module": "@jupyter-widgets/base",
      "_view_module_version": "1.2.0",
      "_view_name": "LayoutView",
      "align_content": null,
      "align_items": null,
      "align_self": null,
      "border": null,
      "bottom": null,
      "display": null,
      "flex": null,
      "flex_flow": null,
      "grid_area": null,
      "grid_auto_columns": null,
      "grid_auto_flow": null,
      "grid_auto_rows": null,
      "grid_column": null,
      "grid_gap": null,
      "grid_row": null,
      "grid_template_areas": null,
      "grid_template_columns": null,
      "grid_template_rows": null,
      "height": null,
      "justify_content": null,
      "justify_items": null,
      "left": null,
      "margin": null,
      "max_height": null,
      "max_width": null,
      "min_height": null,
      "min_width": null,
      "object_fit": null,
      "object_position": null,
      "order": null,
      "overflow": null,
      "overflow_x": null,
      "overflow_y": null,
      "padding": null,
      "right": null,
      "top": null,
      "visibility": null,
      "width": null
     }
    },
    "ac46cce1808343479f6f46da4222a865": {
     "model_module": "@jupyter-widgets/base",
     "model_module_version": "1.2.0",
     "model_name": "LayoutModel",
     "state": {
      "_model_module": "@jupyter-widgets/base",
      "_model_module_version": "1.2.0",
      "_model_name": "LayoutModel",
      "_view_count": null,
      "_view_module": "@jupyter-widgets/base",
      "_view_module_version": "1.2.0",
      "_view_name": "LayoutView",
      "align_content": null,
      "align_items": null,
      "align_self": null,
      "border": null,
      "bottom": null,
      "display": null,
      "flex": null,
      "flex_flow": null,
      "grid_area": null,
      "grid_auto_columns": null,
      "grid_auto_flow": null,
      "grid_auto_rows": null,
      "grid_column": null,
      "grid_gap": null,
      "grid_row": null,
      "grid_template_areas": null,
      "grid_template_columns": null,
      "grid_template_rows": null,
      "height": null,
      "justify_content": null,
      "justify_items": null,
      "left": null,
      "margin": null,
      "max_height": null,
      "max_width": null,
      "min_height": null,
      "min_width": null,
      "object_fit": null,
      "object_position": null,
      "order": null,
      "overflow": null,
      "overflow_x": null,
      "overflow_y": null,
      "padding": null,
      "right": null,
      "top": null,
      "visibility": null,
      "width": null
     }
    },
    "b08beaca05b24ce988ea81eb104a1343": {
     "model_module": "@jupyter-widgets/controls",
     "model_module_version": "1.5.0",
     "model_name": "HBoxModel",
     "state": {
      "_dom_classes": [],
      "_model_module": "@jupyter-widgets/controls",
      "_model_module_version": "1.5.0",
      "_model_name": "HBoxModel",
      "_view_count": null,
      "_view_module": "@jupyter-widgets/controls",
      "_view_module_version": "1.5.0",
      "_view_name": "HBoxView",
      "box_style": "",
      "children": [
       "IPY_MODEL_251ce0f053774db2914397302a50328b",
       "IPY_MODEL_491ff40c8ee84039aef5882ad7db43a7",
       "IPY_MODEL_8cc5cf01803644eeafabb477c3023ba0"
      ],
      "layout": "IPY_MODEL_ac46cce1808343479f6f46da4222a865"
     }
    },
    "bd7483708fde44c8b30bf89163026300": {
     "model_module": "@jupyter-widgets/controls",
     "model_module_version": "1.5.0",
     "model_name": "DescriptionStyleModel",
     "state": {
      "_model_module": "@jupyter-widgets/controls",
      "_model_module_version": "1.5.0",
      "_model_name": "DescriptionStyleModel",
      "_view_count": null,
      "_view_module": "@jupyter-widgets/base",
      "_view_module_version": "1.2.0",
      "_view_name": "StyleView",
      "description_width": ""
     }
    },
    "d0936369286b4ae489211b6644c157b8": {
     "model_module": "@jupyter-widgets/controls",
     "model_module_version": "1.5.0",
     "model_name": "ProgressStyleModel",
     "state": {
      "_model_module": "@jupyter-widgets/controls",
      "_model_module_version": "1.5.0",
      "_model_name": "ProgressStyleModel",
      "_view_count": null,
      "_view_module": "@jupyter-widgets/base",
      "_view_module_version": "1.2.0",
      "_view_name": "StyleView",
      "bar_color": null,
      "description_width": ""
     }
    },
    "dcba10bd9c87425aa2b781e12f5f2d71": {
     "model_module": "@jupyter-widgets/controls",
     "model_module_version": "1.5.0",
     "model_name": "DescriptionStyleModel",
     "state": {
      "_model_module": "@jupyter-widgets/controls",
      "_model_module_version": "1.5.0",
      "_model_name": "DescriptionStyleModel",
      "_view_count": null,
      "_view_module": "@jupyter-widgets/base",
      "_view_module_version": "1.2.0",
      "_view_name": "StyleView",
      "description_width": ""
     }
    },
    "e9a60c3759a04bac90233fb33c58f47e": {
     "model_module": "@jupyter-widgets/controls",
     "model_module_version": "1.5.0",
     "model_name": "HTMLModel",
     "state": {
      "_dom_classes": [],
      "_model_module": "@jupyter-widgets/controls",
      "_model_module_version": "1.5.0",
      "_model_name": "HTMLModel",
      "_view_count": null,
      "_view_module": "@jupyter-widgets/controls",
      "_view_module_version": "1.5.0",
      "_view_name": "HTMLView",
      "description": "",
      "description_tooltip": null,
      "layout": "IPY_MODEL_3fd75a69803d4aa6bc6b83ed32c1096d",
      "placeholder": "​",
      "style": "IPY_MODEL_bd7483708fde44c8b30bf89163026300",
      "value": "100%"
     }
    },
    "f4309497df6945828863b1a87e286e80": {
     "model_module": "@jupyter-widgets/controls",
     "model_module_version": "1.5.0",
     "model_name": "HTMLModel",
     "state": {
      "_dom_classes": [],
      "_model_module": "@jupyter-widgets/controls",
      "_model_module_version": "1.5.0",
      "_model_name": "HTMLModel",
      "_view_count": null,
      "_view_module": "@jupyter-widgets/controls",
      "_view_module_version": "1.5.0",
      "_view_name": "HTMLView",
      "description": "",
      "description_tooltip": null,
      "layout": "IPY_MODEL_6a31753cbf984aaaaeac049af7c97266",
      "placeholder": "​",
      "style": "IPY_MODEL_02b85fe799634ee18a5f2375d6002d50",
      "value": " 1624/1624 [00:18&lt;00:00, 35.54it/s]"
     }
    },
    "f69d0bb863eb4093949a93b2578b5b48": {
     "model_module": "@jupyter-widgets/base",
     "model_module_version": "1.2.0",
     "model_name": "LayoutModel",
     "state": {
      "_model_module": "@jupyter-widgets/base",
      "_model_module_version": "1.2.0",
      "_model_name": "LayoutModel",
      "_view_count": null,
      "_view_module": "@jupyter-widgets/base",
      "_view_module_version": "1.2.0",
      "_view_name": "LayoutView",
      "align_content": null,
      "align_items": null,
      "align_self": null,
      "border": null,
      "bottom": null,
      "display": null,
      "flex": null,
      "flex_flow": null,
      "grid_area": null,
      "grid_auto_columns": null,
      "grid_auto_flow": null,
      "grid_auto_rows": null,
      "grid_column": null,
      "grid_gap": null,
      "grid_row": null,
      "grid_template_areas": null,
      "grid_template_columns": null,
      "grid_template_rows": null,
      "height": null,
      "justify_content": null,
      "justify_items": null,
      "left": null,
      "margin": null,
      "max_height": null,
      "max_width": null,
      "min_height": null,
      "min_width": null,
      "object_fit": null,
      "object_position": null,
      "order": null,
      "overflow": null,
      "overflow_x": null,
      "overflow_y": null,
      "padding": null,
      "right": null,
      "top": null,
      "visibility": null,
      "width": null
     }
    }
   }
  }
 },
 "nbformat": 4,
 "nbformat_minor": 4
}
